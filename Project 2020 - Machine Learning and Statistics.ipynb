{
 "cells": [
  {
   "cell_type": "markdown",
   "metadata": {},
   "source": [
    "# Project 2020\n",
    "## Machine Learning and Statistics\n",
    "#### Due: last commit on or before January 8th, 2021\n",
    "These are the instructions for the Project assessment for Machine Learning and Statistics\n",
    "in 2020. The assessment is worth 50% of the marks for the module. Please read\n",
    "the Using git for assessments [2] document on the Moodle page which applies here. As\n",
    "always, you must also follow the code of student conduct and the policy on plagiarism [1].\n",
    "### Instructions\n",
    "In this project you must create a web service that uses machine learning to make predictions\n",
    "based on the data set powerproduction available on Moodle. The goal is to\n",
    "produce a model that accurately predicts wind turbine power output from wind speed\n",
    "values, as in the data set. You must then develop a web service that will respond with\n",
    "predicted power values based on speed values sent as HTTP requests. Your submission\n",
    "must be in the form of a git repository containing, at a minimum, the following items:\n",
    "1. Jupyter notebook that trains a model using the data set. In the notebook you\n",
    "should explain your model and give an analysis of its accuracy.\n",
    "2. Python script that runs a web service based on the model, as above.\n",
    "3. Dockerfile to build and run the web service in a container.\n",
    "4. Standard items in a git repository such as a README.\n",
    "To enhance your submission, you might consider developing and comparing more than\n",
    "one model. Rest assured, all the above concepts will be explored in lecture videos and\n",
    "other materials in the coming semester.\n"
   ]
  },
  {
   "cell_type": "markdown",
   "metadata": {},
   "source": [
    "### Import Libraries"
   ]
  },
  {
   "cell_type": "code",
   "execution_count": 5,
   "metadata": {},
   "outputs": [],
   "source": [
    "# Efficient numerical arrays.\n",
    "import numpy as np\n",
    "# Data frames.\n",
    "import pandas as pd\n",
    "# Alternative statistics package.\n",
    "import statsmodels.stats.weightstats as stat\n",
    "# Mains statistics package.\n",
    "import scipy.stats as ss\n",
    "# Plotting.\n",
    "import matplotlib.pyplot as plt\n",
    "# Fancier plotting.\n",
    "import seaborn as sns\n",
    "\n",
    "# Better sized plots.\n",
    "plt.rcParams['figure.figsize'] = (12, 8)\n",
    "\n",
    "# Nicer colours and styles for plots.\n",
    "plt.style.use(\"fivethirtyeight\")"
   ]
  },
  {
   "cell_type": "markdown",
   "metadata": {},
   "source": [
    "### Load Data"
   ]
  },
  {
   "cell_type": "code",
   "execution_count": 6,
   "metadata": {},
   "outputs": [
    {
     "data": {
      "text/html": [
       "<div>\n",
       "<style scoped>\n",
       "    .dataframe tbody tr th:only-of-type {\n",
       "        vertical-align: middle;\n",
       "    }\n",
       "\n",
       "    .dataframe tbody tr th {\n",
       "        vertical-align: top;\n",
       "    }\n",
       "\n",
       "    .dataframe thead th {\n",
       "        text-align: right;\n",
       "    }\n",
       "</style>\n",
       "<table border=\"1\" class=\"dataframe\">\n",
       "  <thead>\n",
       "    <tr style=\"text-align: right;\">\n",
       "      <th></th>\n",
       "      <th>speed</th>\n",
       "      <th>power</th>\n",
       "    </tr>\n",
       "  </thead>\n",
       "  <tbody>\n",
       "    <tr>\n",
       "      <th>0</th>\n",
       "      <td>0.000</td>\n",
       "      <td>0.0</td>\n",
       "    </tr>\n",
       "    <tr>\n",
       "      <th>1</th>\n",
       "      <td>0.125</td>\n",
       "      <td>0.0</td>\n",
       "    </tr>\n",
       "    <tr>\n",
       "      <th>2</th>\n",
       "      <td>0.150</td>\n",
       "      <td>0.0</td>\n",
       "    </tr>\n",
       "    <tr>\n",
       "      <th>3</th>\n",
       "      <td>0.225</td>\n",
       "      <td>0.0</td>\n",
       "    </tr>\n",
       "    <tr>\n",
       "      <th>4</th>\n",
       "      <td>0.275</td>\n",
       "      <td>0.0</td>\n",
       "    </tr>\n",
       "    <tr>\n",
       "      <th>...</th>\n",
       "      <td>...</td>\n",
       "      <td>...</td>\n",
       "    </tr>\n",
       "    <tr>\n",
       "      <th>495</th>\n",
       "      <td>24.775</td>\n",
       "      <td>0.0</td>\n",
       "    </tr>\n",
       "    <tr>\n",
       "      <th>496</th>\n",
       "      <td>24.850</td>\n",
       "      <td>0.0</td>\n",
       "    </tr>\n",
       "    <tr>\n",
       "      <th>497</th>\n",
       "      <td>24.875</td>\n",
       "      <td>0.0</td>\n",
       "    </tr>\n",
       "    <tr>\n",
       "      <th>498</th>\n",
       "      <td>24.950</td>\n",
       "      <td>0.0</td>\n",
       "    </tr>\n",
       "    <tr>\n",
       "      <th>499</th>\n",
       "      <td>25.000</td>\n",
       "      <td>0.0</td>\n",
       "    </tr>\n",
       "  </tbody>\n",
       "</table>\n",
       "<p>500 rows × 2 columns</p>\n",
       "</div>"
      ],
      "text/plain": [
       "      speed  power\n",
       "0     0.000    0.0\n",
       "1     0.125    0.0\n",
       "2     0.150    0.0\n",
       "3     0.225    0.0\n",
       "4     0.275    0.0\n",
       "..      ...    ...\n",
       "495  24.775    0.0\n",
       "496  24.850    0.0\n",
       "497  24.875    0.0\n",
       "498  24.950    0.0\n",
       "499  25.000    0.0\n",
       "\n",
       "[500 rows x 2 columns]"
      ]
     },
     "execution_count": 6,
     "metadata": {},
     "output_type": "execute_result"
    }
   ],
   "source": [
    "# Load the powerproduction dataset from a csv file using read_csv function into dataframe called df\n",
    "# adapted from Willems (2017) and McLoughlin (2019)\n",
    "df = pd.read_csv(\"powerproduction.csv\")\n",
    "# Display the dataframe\n",
    "df"
   ]
  },
  {
   "cell_type": "markdown",
   "metadata": {},
   "source": [
    "### 1.4 Review Data Types <a id='types'></a>\n",
    "\n",
    "Sharma (2018) recommends that once the data has been loaded, the next step is to review the data-type / features of the data.\n",
    "\n",
    "Data-Types / Features fall into the following categories:\n",
    "* numeric (Integers / Floats)\n",
    "* categorical (Class)\n",
    "* ordinal (Data that can be ranked in an order)  \n",
    "* datetime\n",
    "* coordinates\n",
    "\n",
    "The Pandas dataframe.dtypes command is used to display the data types/features of dataset"
   ]
  },
  {
   "cell_type": "code",
   "execution_count": 7,
   "metadata": {},
   "outputs": [
    {
     "data": {
      "text/plain": [
       "speed    float64\n",
       "power    float64\n",
       "dtype: object"
      ]
     },
     "execution_count": 7,
     "metadata": {},
     "output_type": "execute_result"
    }
   ],
   "source": [
    "# Use DataFrame.dtypes command to find out the data type (dtype) of each column in the given dataframe. \n",
    "df.dtypes"
   ]
  },
  {
   "cell_type": "code",
   "execution_count": 8,
   "metadata": {},
   "outputs": [
    {
     "data": {
      "text/html": [
       "<div>\n",
       "<style scoped>\n",
       "    .dataframe tbody tr th:only-of-type {\n",
       "        vertical-align: middle;\n",
       "    }\n",
       "\n",
       "    .dataframe tbody tr th {\n",
       "        vertical-align: top;\n",
       "    }\n",
       "\n",
       "    .dataframe thead th {\n",
       "        text-align: right;\n",
       "    }\n",
       "</style>\n",
       "<table border=\"1\" class=\"dataframe\">\n",
       "  <thead>\n",
       "    <tr style=\"text-align: right;\">\n",
       "      <th></th>\n",
       "      <th>speed</th>\n",
       "      <th>power</th>\n",
       "    </tr>\n",
       "  </thead>\n",
       "  <tbody>\n",
       "    <tr>\n",
       "      <th>count</th>\n",
       "      <td>500.000000</td>\n",
       "      <td>500.000000</td>\n",
       "    </tr>\n",
       "    <tr>\n",
       "      <th>mean</th>\n",
       "      <td>12.590398</td>\n",
       "      <td>48.014584</td>\n",
       "    </tr>\n",
       "    <tr>\n",
       "      <th>std</th>\n",
       "      <td>7.224991</td>\n",
       "      <td>41.614572</td>\n",
       "    </tr>\n",
       "    <tr>\n",
       "      <th>min</th>\n",
       "      <td>0.000000</td>\n",
       "      <td>0.000000</td>\n",
       "    </tr>\n",
       "    <tr>\n",
       "      <th>25%</th>\n",
       "      <td>6.324750</td>\n",
       "      <td>5.288000</td>\n",
       "    </tr>\n",
       "    <tr>\n",
       "      <th>50%</th>\n",
       "      <td>12.550500</td>\n",
       "      <td>41.645500</td>\n",
       "    </tr>\n",
       "    <tr>\n",
       "      <th>75%</th>\n",
       "      <td>18.775250</td>\n",
       "      <td>93.537000</td>\n",
       "    </tr>\n",
       "    <tr>\n",
       "      <th>max</th>\n",
       "      <td>25.000000</td>\n",
       "      <td>113.556000</td>\n",
       "    </tr>\n",
       "  </tbody>\n",
       "</table>\n",
       "</div>"
      ],
      "text/plain": [
       "            speed       power\n",
       "count  500.000000  500.000000\n",
       "mean    12.590398   48.014584\n",
       "std      7.224991   41.614572\n",
       "min      0.000000    0.000000\n",
       "25%      6.324750    5.288000\n",
       "50%     12.550500   41.645500\n",
       "75%     18.775250   93.537000\n",
       "max     25.000000  113.556000"
      ]
     },
     "execution_count": 8,
     "metadata": {},
     "output_type": "execute_result"
    }
   ],
   "source": [
    "df.describe()"
   ]
  },
  {
   "cell_type": "code",
   "execution_count": 9,
   "metadata": {},
   "outputs": [
    {
     "data": {
      "image/png": "[encoded data removed]",
      "text/plain": [
       "<Figure size 360x360 with 1 Axes>"
      ]
     },
     "metadata": {},
     "output_type": "display_data"
    }
   ],
   "source": [
    "# One type of plot available in seaborn.\n",
    "sns.catplot(x='speed', y='power', jitter=False, data=df);"
   ]
  },
  {
   "cell_type": "markdown",
   "metadata": {},
   "source": [
    "### 1.5 Data Set Description <a id='description'></a>\n",
    "\n",
    "By loading the data set and displaying the dataframe and running the dataframe.dtypes command , it's possible to determine some basic details of the dataset as follows: \n",
    "\n",
    "* The powerproduction data set is a comma-separated values (csv) file with 500 records (rows of data) and 2 fields (columns).\n",
    "    * Each record (row of data) is located on a separate line, delimited by a line break. \n",
    "    * The fields of data in the header line and each record (row) are delimited with a comma. \n",
    "    * Each row or data is indexed, the index is shown in the column on the left, but the index is not part of the dataset itself.\n",
    "* The first line of the file is the header line, containing the names of the 2 fields: \"speed\",\"power\".\n",
    "    * The two columns; \"speed\",\"power\", contain floats.\n",
    "    * The \"speed\" column displays wind speed data - the unit of measure is meter per second, it is assumed this is a measure of wind intensity as opposed to maximum wind speed. According to the Met Office (2020)  wind intensity is defined by the average wind speed over a ten minute period being reported. \n",
    "    * The \"power\" column displays power output which is measure in kilowatts (Pickerel, 2010).\n",
    "* Reviewing the values of Mean, Std, Min, Median(median represents the 50th percentile or the middle value of the data), and Max.\n",
    "    * The wind speeds column seems to follow the pattern of a normal distribution\n",
    "    * The power output column, showns a large difference between Min and MAX, their difference in Mean and median too, which means this column is noisy and this is borne out by the visualization."
   ]
  },
  {
   "cell_type": "markdown",
   "metadata": {},
   "source": [
    "## 2.0 Data Cleaning <a id='cleaning'></a>\n",
    "\n",
    "Data cleaning is the process of ensuring that your data is correct and useable by identifying any errors in the data, or missing data by correcting or deleting them (Sharma, 2018). \n",
    "\n",
    "### 2.1 Detect Missing Data <a id='missing'></a>\n",
    "\n",
    "Sharma (2018) highlights missing data as a common issue with data sets and can occur when no data value is recorded for the variable in an observation. Missing data can have a significant impact on the conclusions that can be drawn from the data. "
   ]
  },
  {
   "cell_type": "code",
   "execution_count": 10,
   "metadata": {},
   "outputs": [
    {
     "data": {
      "text/plain": [
       "speed    0\n",
       "power    0\n",
       "dtype: int64"
      ]
     },
     "execution_count": 10,
     "metadata": {},
     "output_type": "execute_result"
    }
   ],
   "source": [
    "# Check if the dataframe has missing data using the pandas.isnull(obj) function. \n",
    "# adapted from https://confusedcoders.com/data-science/cleaning-data-for-data-visualisation\n",
    "df.isnull().sum() #detect missing values \n",
    "# The below results indicate that no data is missing from the array."
   ]
  },
  {
   "cell_type": "markdown",
   "metadata": {},
   "source": [
    "### 2.2 First and Last DataFrame Rows <a id='first'></a>\n",
    "\n",
    "Having established some basic details about the data set, Willems (2017) suggests that its good idea to take a closer look at the data itself. I used the pandas head() and tail() functions take a look the first and last lines of the data set to see if there was anything unusual."
   ]
  },
  {
   "cell_type": "code",
   "execution_count": 11,
   "metadata": {},
   "outputs": [
    {
     "data": {
      "text/html": [
       "<div>\n",
       "<style scoped>\n",
       "    .dataframe tbody tr th:only-of-type {\n",
       "        vertical-align: middle;\n",
       "    }\n",
       "\n",
       "    .dataframe tbody tr th {\n",
       "        vertical-align: top;\n",
       "    }\n",
       "\n",
       "    .dataframe thead th {\n",
       "        text-align: right;\n",
       "    }\n",
       "</style>\n",
       "<table border=\"1\" class=\"dataframe\">\n",
       "  <thead>\n",
       "    <tr style=\"text-align: right;\">\n",
       "      <th></th>\n",
       "      <th>speed</th>\n",
       "      <th>power</th>\n",
       "    </tr>\n",
       "  </thead>\n",
       "  <tbody>\n",
       "    <tr>\n",
       "      <th>0</th>\n",
       "      <td>0.000</td>\n",
       "      <td>0.0</td>\n",
       "    </tr>\n",
       "    <tr>\n",
       "      <th>1</th>\n",
       "      <td>0.125</td>\n",
       "      <td>0.0</td>\n",
       "    </tr>\n",
       "    <tr>\n",
       "      <th>2</th>\n",
       "      <td>0.150</td>\n",
       "      <td>0.0</td>\n",
       "    </tr>\n",
       "    <tr>\n",
       "      <th>3</th>\n",
       "      <td>0.225</td>\n",
       "      <td>0.0</td>\n",
       "    </tr>\n",
       "    <tr>\n",
       "      <th>4</th>\n",
       "      <td>0.275</td>\n",
       "      <td>0.0</td>\n",
       "    </tr>\n",
       "  </tbody>\n",
       "</table>\n",
       "</div>"
      ],
      "text/plain": [
       "   speed  power\n",
       "0  0.000    0.0\n",
       "1  0.125    0.0\n",
       "2  0.150    0.0\n",
       "3  0.225    0.0\n",
       "4  0.275    0.0"
      ]
     },
     "execution_count": 11,
     "metadata": {},
     "output_type": "execute_result"
    }
   ],
   "source": [
    "# Inspect the first 5 rows - adapted from https://www.datacamp.com/community/tutorials/exploratory-data-analysis-python\n",
    "df.head()"
   ]
  },
  {
   "cell_type": "code",
   "execution_count": 12,
   "metadata": {},
   "outputs": [
    {
     "data": {
      "text/html": [
       "<div>\n",
       "<style scoped>\n",
       "    .dataframe tbody tr th:only-of-type {\n",
       "        vertical-align: middle;\n",
       "    }\n",
       "\n",
       "    .dataframe tbody tr th {\n",
       "        vertical-align: top;\n",
       "    }\n",
       "\n",
       "    .dataframe thead th {\n",
       "        text-align: right;\n",
       "    }\n",
       "</style>\n",
       "<table border=\"1\" class=\"dataframe\">\n",
       "  <thead>\n",
       "    <tr style=\"text-align: right;\">\n",
       "      <th></th>\n",
       "      <th>speed</th>\n",
       "      <th>power</th>\n",
       "    </tr>\n",
       "  </thead>\n",
       "  <tbody>\n",
       "    <tr>\n",
       "      <th>495</th>\n",
       "      <td>24.775</td>\n",
       "      <td>0.0</td>\n",
       "    </tr>\n",
       "    <tr>\n",
       "      <th>496</th>\n",
       "      <td>24.850</td>\n",
       "      <td>0.0</td>\n",
       "    </tr>\n",
       "    <tr>\n",
       "      <th>497</th>\n",
       "      <td>24.875</td>\n",
       "      <td>0.0</td>\n",
       "    </tr>\n",
       "    <tr>\n",
       "      <th>498</th>\n",
       "      <td>24.950</td>\n",
       "      <td>0.0</td>\n",
       "    </tr>\n",
       "    <tr>\n",
       "      <th>499</th>\n",
       "      <td>25.000</td>\n",
       "      <td>0.0</td>\n",
       "    </tr>\n",
       "  </tbody>\n",
       "</table>\n",
       "</div>"
      ],
      "text/plain": [
       "      speed  power\n",
       "495  24.775    0.0\n",
       "496  24.850    0.0\n",
       "497  24.875    0.0\n",
       "498  24.950    0.0\n",
       "499  25.000    0.0"
      ]
     },
     "execution_count": 12,
     "metadata": {},
     "output_type": "execute_result"
    }
   ],
   "source": [
    "# Inspect the last 5 rows - adapted from https://www.datacamp.com/community/tutorials/exploratory-data-analysis-python\n",
    "df.tail()"
   ]
  },
  {
   "cell_type": "markdown",
   "metadata": {},
   "source": [
    "### 2.3 Data Cleaning Results  <a id='clean'></a>\n",
    "\n",
    "The results of the review of the data contained in the first and last dataframe rows are as follows:\n",
    "\n",
    "* The power output for the first and last 5 rows in the data set was zero. This was unexpected and needs further investigation. "
   ]
  },
  {
   "cell_type": "markdown",
   "metadata": {},
   "source": [
    "## 3.0 Data Pre-Processing <a id='preprocessing'></a>\n",
    "\n",
    "Now that I have confirmed that the data is clean the next step is to prepare the data for analysis (data preprocessing).\n",
    "\n",
    "Sharma (2018), describes data preprocessing as a data analysis technique that involves transforming raw data into an understandable format. Preprocessing activities include normalisation and standardisation, transformation, feature extraction and selection. The output of data preprocessing is the final training dataset."
   ]
  },
  {
   "cell_type": "markdown",
   "metadata": {},
   "source": [
    "### 3.4 Outliers <a id='outliers'></a>\n",
    "\n",
    "Willems (2017), describes outliers as data that contain values that diverge heavily from the majority of other data. These values are easily identified when you plot the data as the data points appear to lie outside the “expected” area of the plot. Outliers are often caused by data entry or recording errors. Your data needs to be screened for outliers as they can have a signficant effect on the results of the typical summary statistics and can influence the machine learning algorithms such as Linear Regression Models.\n",
    "\n",
    "Willems (2017) suggests some approachs to handling outliers, including deleting the values, transforming the values using an algorithm (e.g. K Nearest Neighbours), or  replacing the values with the mean/mode/median value. Before deciding which approach is best, you first need to have a clear understanding of the data and the likely causes of the outliers.  \n",
    "\n",
    "#### 3.4.1 Removal of Records With Zero Value Power Output <a id='outliers'></a>\n",
    "As we have seen from the head and tail that zero value power output is a feature of the dataset. According to the US Dept of Energy (2020), for wind turbines to operate there must be a minimum wind speeds of between 8 to 16 miles per hour (7.5 meters per second) and a maximum wind speed of about 55 mph (24.5 meters per second). Wind turbines can be damaged at wind speeds above about 55 mph. \n",
    "* The dataset contains records where the power output is zero, where the wind speeds are outside the recommended operating parameters outlined by the US Dept of Energy. Therefore, I will treat these as outliers and remove the values from the dataset.\n",
    "* There four records where the power outpout is zero and the wind speed is within the normal operating parameters. This is not expected, there is no reason provided, but it could be assumed that the turbines may have been taken offline for maintenance etc. I will treat these 4 records as outliers and remove the values from the dataset. \n"
   ]
  },
  {
   "cell_type": "code",
   "execution_count": 13,
   "metadata": {},
   "outputs": [
    {
     "data": {
      "text/html": [
       "<div>\n",
       "<style scoped>\n",
       "    .dataframe tbody tr th:only-of-type {\n",
       "        vertical-align: middle;\n",
       "    }\n",
       "\n",
       "    .dataframe tbody tr th {\n",
       "        vertical-align: top;\n",
       "    }\n",
       "\n",
       "    .dataframe thead th {\n",
       "        text-align: right;\n",
       "    }\n",
       "</style>\n",
       "<table border=\"1\" class=\"dataframe\">\n",
       "  <thead>\n",
       "    <tr style=\"text-align: right;\">\n",
       "      <th></th>\n",
       "      <th>speed</th>\n",
       "      <th>power</th>\n",
       "    </tr>\n",
       "  </thead>\n",
       "  <tbody>\n",
       "    <tr>\n",
       "      <th>5</th>\n",
       "      <td>0.325</td>\n",
       "      <td>4.331</td>\n",
       "    </tr>\n",
       "    <tr>\n",
       "      <th>6</th>\n",
       "      <td>0.400</td>\n",
       "      <td>5.186</td>\n",
       "    </tr>\n",
       "    <tr>\n",
       "      <th>7</th>\n",
       "      <td>0.450</td>\n",
       "      <td>3.826</td>\n",
       "    </tr>\n",
       "    <tr>\n",
       "      <th>8</th>\n",
       "      <td>0.501</td>\n",
       "      <td>1.048</td>\n",
       "    </tr>\n",
       "    <tr>\n",
       "      <th>9</th>\n",
       "      <td>0.526</td>\n",
       "      <td>5.553</td>\n",
       "    </tr>\n",
       "    <tr>\n",
       "      <th>...</th>\n",
       "      <td>...</td>\n",
       "      <td>...</td>\n",
       "    </tr>\n",
       "    <tr>\n",
       "      <th>485</th>\n",
       "      <td>24.249</td>\n",
       "      <td>103.700</td>\n",
       "    </tr>\n",
       "    <tr>\n",
       "      <th>486</th>\n",
       "      <td>24.299</td>\n",
       "      <td>93.694</td>\n",
       "    </tr>\n",
       "    <tr>\n",
       "      <th>487</th>\n",
       "      <td>24.349</td>\n",
       "      <td>93.078</td>\n",
       "    </tr>\n",
       "    <tr>\n",
       "      <th>488</th>\n",
       "      <td>24.374</td>\n",
       "      <td>98.223</td>\n",
       "    </tr>\n",
       "    <tr>\n",
       "      <th>489</th>\n",
       "      <td>24.399</td>\n",
       "      <td>95.117</td>\n",
       "    </tr>\n",
       "  </tbody>\n",
       "</table>\n",
       "<p>451 rows × 2 columns</p>\n",
       "</div>"
      ],
      "text/plain": [
       "      speed    power\n",
       "5     0.325    4.331\n",
       "6     0.400    5.186\n",
       "7     0.450    3.826\n",
       "8     0.501    1.048\n",
       "9     0.526    5.553\n",
       "..      ...      ...\n",
       "485  24.249  103.700\n",
       "486  24.299   93.694\n",
       "487  24.349   93.078\n",
       "488  24.374   98.223\n",
       "489  24.399   95.117\n",
       "\n",
       "[451 rows x 2 columns]"
      ]
     },
     "execution_count": 13,
     "metadata": {},
     "output_type": "execute_result"
    }
   ],
   "source": [
    "# Remove \"Zero\" Values\n",
    "newdf = df[(df.power > 0)] \n",
    "newdf"
   ]
  },
  {
   "cell_type": "code",
   "execution_count": 14,
   "metadata": {},
   "outputs": [
    {
     "data": {
      "image/png": "[encoded data removed]",
      "text/plain": [
       "<Figure size 360x360 with 1 Axes>"
      ]
     },
     "metadata": {},
     "output_type": "display_data"
    }
   ],
   "source": [
    "# One type of plot available in seaborn.\n",
    "sns.catplot(x='speed', y='power', jitter=False, data=newdf);"
   ]
  },
  {
   "cell_type": "markdown",
   "metadata": {},
   "source": [
    "## 5.0 Linear Regression <a id='linear'></a>\n",
    "\n",
    "In this section, I will briefly describe what regression is and the types of linear regression methodologies. I will explain to use Simple Linear Regression to to produce a model to accurately predict wind turbine power output from wind speed\n",
    "values, using the powerproduction dataseet to train the model. I use Scikit-Learn, which is \"one of the most popular machine learning libraries for Python\" (Pathak, 2020).\n",
    "\n",
    "#### How regression works and when to use it. <a id='linear'></a>\n",
    "\n",
    "According to Frost (2019), regression models can be used to predict changes to a dependent variable (y) given changes to one or more predictor variables (x). There are two types of Linear Regression methodologies:\n",
    "\n",
    "1. Simple Linear Regression \n",
    "Simple linear regression algorithm identifies if there is a linear relationship between variables; x (input) and y(output), Pathak(2020).  This relationship is represented in the form:  Y= ax + b \n",
    "Where 'b' is the intercept and 'a' is the slope of the line. The linear regression algorithm fits multiple lines on the data points and returns the line that results in the best fit (least error), (Pathak, 2020).\n",
    "\n",
    "2. Multiple Linear Regression\n",
    "Multiple linear regression is used where there are more than two variables. In this scenario, the dependent variable(y) variable) is dependent upon more than one independent variables (Pathak, 2020). A regression model involving multiple variables can be represented as:\n",
    "y = b0 + a1b1 + a2b2 + a3b3 + … … anbn\n",
    "\n",
    "I have decided to use Simple Linear Regression as there are only two variables. However Multiple Linear Regression could be used if additional variables were included in the data set. According to Pickerel, 2020, other variables which determine power output include:\n",
    "\n",
    "    * The rotor area, the larger the rotor, the more energy it generates.\n",
    "    * The air density, air density is a function of air temperature and elevation, the standard rating assumes 15° C at sea level. As air density changes with elevation, this can affect output.  \n"
   ]
  },
  {
   "cell_type": "markdown",
   "metadata": {},
   "source": [
    "### 5.1 Simple Linear Regression <a id='simple'></a>\n",
    "\n",
    "Simple linear regression is used to identify a straight-line which best fits to data. \n",
    "Stojiljkovic (2019) outlines five basic steps in implementing linear regression:\n",
    "\n",
    "1. Import the packages and classes.\n",
    "2. Provide the data to analyse.\n",
    "3. Create a regression model and fit it with the data.\n",
    "4. Check the results of model fitting and decide whether to accept or reject the model.\n",
    "5. Make predictions using the model."
   ]
  },
  {
   "cell_type": "markdown",
   "metadata": {},
   "source": [
    "#### 5.1.1 Import Packages and Classes"
   ]
  },
  {
   "cell_type": "code",
   "execution_count": 15,
   "metadata": {},
   "outputs": [],
   "source": [
    "# The first step is to import the class LinearRegression from sklearn.linear_model adapted from Stojiljkovic (2019)\n",
    "# The class sklearn.linear_model.LinearRegression will be used to perform linear regression using the Ordinary Least Squares model to fit this data and construct the best-fit line\n",
    "from sklearn.linear_model import LinearRegression"
   ]
  },
  {
   "cell_type": "markdown",
   "metadata": {},
   "source": [
    "#### 5.1.2 Provide Data\n",
    "The second step is defining data you wish to analyse. This involves defining the input (predictor variable, the x) and output (dependent variable, the 𝑦), these variables should be in the form of NumPy arrays (Stojiljkovic, 2019)."
   ]
  },
  {
   "cell_type": "code",
   "execution_count": 16,
   "metadata": {},
   "outputs": [
    {
     "data": {
      "text/plain": [
       "(451, 2)"
      ]
     },
     "execution_count": 16,
     "metadata": {},
     "output_type": "execute_result"
    }
   ],
   "source": [
    "# Create array consisting of the two columns; x and y variables\n",
    "predictors = newdf[['speed', 'power']]\n",
    "# display shapes, 2 columns.\n",
    "predictors.shape\n",
    "# print the shape of the array"
   ]
  },
  {
   "cell_type": "code",
   "execution_count": 17,
   "metadata": {},
   "outputs": [
    {
     "data": {
      "text/plain": [
       "<matplotlib.axes._subplots.AxesSubplot at 0x23fb543e3d0>"
      ]
     },
     "execution_count": 17,
     "metadata": {},
     "output_type": "execute_result"
    },
    {
     "data": {
      "image/png": "[encoded data removed]",
      "text/plain": [
       "<Figure size 864x576 with 1 Axes>"
      ]
     },
     "metadata": {},
     "output_type": "display_data"
    }
   ],
   "source": [
    "# Create a simple scatterplot to visualize the data\n",
    "sns.scatterplot(x='speed', y='power', sizes=(40, 400), legend=\"full\", data=predictors)\n",
    "# print scatterplot"
   ]
  },
  {
   "cell_type": "code",
   "execution_count": 18,
   "metadata": {},
   "outputs": [
    {
     "data": {
      "text/plain": [
       "(451, 1)"
      ]
     },
     "execution_count": 18,
     "metadata": {},
     "output_type": "execute_result"
    }
   ],
   "source": [
    "# Solution adapted from Lalitha 2017\n",
    "# Convert the input variable 'Total Bill' into an array XX: \n",
    "XX = np.asarray(predictors['speed']) # https://docs.scipy.org/doc/numpy/reference/generated/numpy.asarray.html\n",
    "# Convert 1 array XX into 2D array called X2 in the shape of a column vector by inserting an axis along second dimension\n",
    "X2 = XX[:, np.newaxis] # https://medium.com/@ian.dzindo01/what-is-numpy-newaxis-and-when-to-use-it-8cb61c7ed6ae\n",
    "# Print shape of X2 array\n",
    "X2.shape"
   ]
  },
  {
   "cell_type": "code",
   "execution_count": 19,
   "metadata": {},
   "outputs": [
    {
     "data": {
      "text/plain": [
       "(451,)"
      ]
     },
     "execution_count": 19,
     "metadata": {},
     "output_type": "execute_result"
    }
   ],
   "source": [
    "y2 = predictors['power']\n",
    "y2.shape"
   ]
  },
  {
   "cell_type": "markdown",
   "metadata": {},
   "source": [
    "#### 5.1.3 Create a regression model and fit it "
   ]
  },
  {
   "cell_type": "code",
   "execution_count": 20,
   "metadata": {},
   "outputs": [
    {
     "data": {
      "text/plain": [
       "LinearRegression()"
      ]
     },
     "execution_count": 20,
     "metadata": {},
     "output_type": "execute_result"
    }
   ],
   "source": [
    "# Create an instance of the class LinearRegression, called model representing the regression model (Stojiljkovic, 2019).\n",
    "# Define Parameters \n",
    "    # Define the parameters of the regression model, source https://realpython.com/linear-regression-in-python/\n",
    "    # fit_intercept=True , the y-intercept will be determined by the line of best fit. https://stackoverflow.com/a/46781428\n",
    "    # normalize is a Boolean (False by default) that decides whether to normalize the input variables (True) or not (False).\n",
    "    # copy_X is a Boolean (True by default) that decides whether to copy (True) or overwrite the input variables (False).\n",
    "    # n_jobs is an integer or None (default) and represents the number of jobs used in parallel computation. None usually means one job and -1 to use all processors.\n",
    "\n",
    "# call .fit() on model: \n",
    "model = LinearRegression(fit_intercept=True).fit(X2, y2)\n",
    "# Print Model\n",
    "model"
   ]
  },
  {
   "cell_type": "markdown",
   "metadata": {},
   "source": [
    "#### 5.1.4 Get Results"
   ]
  },
  {
   "cell_type": "code",
   "execution_count": 21,
   "metadata": {},
   "outputs": [
    {
     "name": "stdout",
     "output_type": "stream",
     "text": [
      "coefficient of determination: 0.8984832870534454\n"
     ]
    }
   ],
   "source": [
    "r_sq = model.score(X2, y2)\n",
    "print('coefficient of determination:', r_sq)"
   ]
  },
  {
   "cell_type": "code",
   "execution_count": 22,
   "metadata": {},
   "outputs": [
    {
     "name": "stdout",
     "output_type": "stream",
     "text": [
      "regression coefficient (slope): [5.61882784]\n"
     ]
    }
   ],
   "source": [
    "# Regression coefficients - adapted from Lalitha (2017)\n",
    "# Regression coefficients are estimates of the unknown population parameters and describe the relationship between a predictor variable and the response. \n",
    "# In linear regression, coefficients are the values that multiply the predictor values. \n",
    "# Use sklearn coef function to display the coefficient for the line of best fit taken from 'model'\n",
    "r_coef = model.coef_\n",
    "print('regression coefficient (slope):', r_coef)"
   ]
  },
  {
   "cell_type": "code",
   "execution_count": 23,
   "metadata": {},
   "outputs": [
    {
     "name": "stdout",
     "output_type": "stream",
     "text": [
      "y intercept: -19.837685452108396\n"
     ]
    }
   ],
   "source": [
    "constant = model.intercept_\n",
    "print('y intercept:', constant)"
   ]
  },
  {
   "cell_type": "markdown",
   "metadata": {},
   "source": [
    "#### 5.1.5 Predict response\n",
    "Once you are happy with the model, the next step is to predict the response using some test data"
   ]
  },
  {
   "cell_type": "code",
   "execution_count": 24,
   "metadata": {},
   "outputs": [
    {
     "data": {
      "text/plain": [
       "(244, 1)"
      ]
     },
     "execution_count": 24,
     "metadata": {},
     "output_type": "execute_result"
    }
   ],
   "source": [
    "# Create test data adapted from Lalitha (2017)\n",
    "# Generate 244 samples in range 0 to 51 (which approximates range of bills) using NumPy Random Randint function\n",
    "Xfit = np.random.uniform(25,size=(244))\n",
    "# astype is used to convert integers to floats in Pandas DataFrame: https://datatofish.com/integer-to-float-dataframe/\n",
    "Xfit.astype(float)\n",
    "# Convert 1D array Xfit into 2D array in the shape of a column vector by inserting an axis along second dimension\n",
    "Xfit = Xfit[:, np.newaxis] # https://medium.com/@ian.dzindo01/what-is-numpy-newaxis-and-when-to-use-it-8cb61c7ed6ae\n",
    "# display the shape of an array Xfit\n",
    "Xfit.shape # adapted from https://stackoverflow.com/a/10200284\n"
   ]
  },
  {
   "cell_type": "code",
   "execution_count": 25,
   "metadata": {},
   "outputs": [
    {
     "name": "stdout",
     "output_type": "stream",
     "text": [
      "predicted response:\n",
      "[ 1.78000312e+01  9.20210894e+01  2.16143756e+00  3.33236492e+01\n",
      "  6.98168040e+01  9.62520322e+01  5.76681590e+00  5.64848861e+01\n",
      "  5.76919171e+01  1.00153079e+02  5.04255973e+00  5.04651208e+01\n",
      "  1.16634523e+02  8.18606822e+01  1.03551886e+02  4.55317628e+01\n",
      "  1.18869466e+02  1.17125900e+02 -4.42619986e+00  3.90253905e+01\n",
      "  2.10927849e+01 -1.10289579e+01  5.15362936e+01  7.41407247e+01\n",
      "  1.44679558e+01  8.25519085e+01  3.81848012e+01  4.60795168e+01\n",
      "  1.10277480e+02 -1.25287339e+01 -3.64946866e+00  6.67023679e+01\n",
      "  4.37447632e-01  8.53468934e+01  9.77782270e+01  1.16760081e+02\n",
      "  6.46749804e+01  1.13201046e+02  2.92846264e+01  9.58966349e+01\n",
      "  7.80933058e+01  1.20087174e+01  1.20199720e+02  8.31682510e+01\n",
      "  1.03049286e+02  4.86765190e+01  9.13577792e+01  4.39181658e+01\n",
      " -7.20933428e+00  9.62602101e+01  4.25942306e+01  7.54466598e+01\n",
      "  6.89335832e+01  4.85039555e+00  1.69167769e+01  1.01494993e+02\n",
      "  1.22507254e+01  8.02370036e+01  7.03296286e+01  9.34165215e+01\n",
      "  1.05042025e+02  6.36327060e+01  6.85753168e+01  4.66048590e+01\n",
      "  6.37624557e+01 -7.86923124e+00  7.79834118e+01 -1.17954363e+01\n",
      "  2.67950224e+01  9.44194823e+01  1.48534301e+01  4.06579855e+01\n",
      "  3.75192916e+01  9.79467086e+01 -1.07871955e+01  1.29423575e+01\n",
      "  1.07994033e+02  1.13688297e+02 -8.47547428e+00 -1.26771273e+01\n",
      "  1.12655097e+02  1.29549888e+00  1.03478096e+01  8.97279189e+01\n",
      "  7.75208601e+00  5.45961788e+01  5.00959222e+01 -8.76409181e+00\n",
      "  8.92684735e+01  1.00386031e+02  3.19511906e+01  4.70763756e+01\n",
      "  2.15700882e+01  9.37529871e+01  2.60311313e+01  1.05100463e+02\n",
      "  3.35185975e+01  9.84434706e+00  1.19504719e+02 -8.84826604e+00\n",
      "  2.51331413e+01 -1.04307876e+01  3.77501551e+01  1.10206309e+02\n",
      "  3.64273863e+01  4.20909849e+01  2.19026699e+01  8.54256689e+01\n",
      "  4.12220797e+01 -6.24736379e+00  5.39080043e+01  9.21097420e+01\n",
      "  2.13681213e+01  4.49336072e+01 -3.07527641e+00  1.38067537e+01\n",
      "  1.59471707e+01  2.95027302e+01  4.46130490e+01  1.09173313e+02\n",
      "  5.00220169e+01  1.83597173e+01 -7.21059433e+00  6.86395131e+01\n",
      "  9.43421731e+01  1.14593326e+02  9.65671739e+01  8.09200662e+01\n",
      "  8.31072135e+01  4.54801195e+00 -1.39604111e+01  4.76088245e+01\n",
      "  9.31270041e+01  1.20541931e+01  8.33228156e+01  6.37825411e+01\n",
      "  7.23499323e+01  4.37086683e+01  1.12329700e+01  2.95046634e+01\n",
      "  7.34229102e+01  7.26729577e+01  8.84845917e+01  1.48005916e+01\n",
      "  1.10901317e+02  2.23350393e+01  7.81987897e+01  1.07765596e+01\n",
      "  9.52372815e+01  3.45622011e+00  4.39048480e+01  7.51181207e+01\n",
      "  5.47813424e+01  6.62172928e+01  8.49479867e+01  4.86876174e+01\n",
      "  3.81183054e+01  6.18033229e+01  4.75923337e+01  1.12499957e+02\n",
      "  4.57929046e+01  2.25951530e+01  6.30506828e+01 -5.85683472e+00\n",
      "  8.66247914e+01  9.85806405e+01 -5.99109841e-01  3.84507164e+01\n",
      "  1.40716039e+01  6.83588221e+00  2.29213066e+01 -6.57617004e+00\n",
      "  5.84958639e+01  6.76993819e+00  4.64648995e+01  6.36660510e+01\n",
      "  1.12502035e+02  7.19028513e+01  9.51026789e+01  7.63052635e-02\n",
      "  3.03571993e+01  1.11852749e+02  1.03604966e+02  1.07479115e+02\n",
      "  2.32238023e+01  5.83809745e+01  1.06286937e+02  8.17139711e+01\n",
      "  4.01830831e+01  7.70982283e+01  3.10114794e+00  8.22456227e+01\n",
      "  6.12152290e+01  7.01136496e+01  6.13674824e+01  7.19602483e+00\n",
      " -3.29001620e+00  4.33592343e+01  4.25571956e+01  8.05576392e+00\n",
      "  1.95338731e+01  2.17316896e+01  1.67439801e+01  1.02144243e+02\n",
      "  8.32114260e+01 -7.31319825e+00  1.06633078e+02  1.93051651e+01\n",
      "  1.16109480e+02  5.43642865e+01  4.43986911e+00  6.26421815e+01\n",
      "  8.48455693e+01  3.77355894e+01  1.15858732e+02  2.91100476e+00\n",
      "  7.29478691e+01  1.08729708e+02  1.06672188e+02  7.65371206e+01\n",
      "  8.10253388e+01  8.77137504e+01  1.05530624e+02  6.34191295e+01\n",
      " -1.11248090e+00  1.76378324e+00  4.49206531e+01 -5.46633786e+00\n",
      " -1.37879250e+01  5.26337977e+01  6.27137460e+01  5.35137871e+01\n",
      "  7.85302657e+01 -3.41328502e+00  1.13571390e+02  8.26368184e+01\n",
      "  6.33598371e+01  9.40247193e+01  4.58484503e+01 -4.16953853e+00\n",
      "  3.36842937e+01  1.17932764e+02  6.17839925e+01  1.00683570e+02]\n"
     ]
    }
   ],
   "source": [
    "# To obtain the predicted response, use .predict(): (Stojiljkovic, 2019).\n",
    "yfit = (model.predict(Xfit))\n",
    "print('predicted response:', yfit, sep='\\n')\n",
    "# Answer"
   ]
  },
  {
   "cell_type": "code",
   "execution_count": 26,
   "metadata": {},
   "outputs": [
    {
     "data": {
      "image/png": "[encoded data removed]",
      "text/plain": [
       "<Figure size 1080x720 with 1 Axes>"
      ]
     },
     "metadata": {},
     "output_type": "display_data"
    }
   ],
   "source": [
    "# Visualize the results\n",
    "\n",
    "# Resize Plot to creates a figure with 15 (width) x 10 (height) inches - Adapted from https://stackoverflow.com/a/36368418\n",
    "plt.figure(figsize=(15,10))\n",
    "plt.xlabel('Speed') # Label x Axis \n",
    "plt.ylabel('Power') # Label y Axis \n",
    "\n",
    "# Create a scatter plot of X2 and y2 and plot the regression line which is the predicted response when data is input into the regression model\n",
    "plt.scatter(X2, y2)\n",
    "plt.plot(Xfit, yfit,color=\"red\")\n",
    "plt.show()"
   ]
  },
  {
   "cell_type": "code",
   "execution_count": 27,
   "metadata": {},
   "outputs": [
    {
     "data": {
      "text/plain": [
       "(1, 1)"
      ]
     },
     "execution_count": 27,
     "metadata": {},
     "output_type": "execute_result"
    }
   ],
   "source": [
    "# Testspeed is an array containing 1 float, value 15.5, representing 15.5 meters per second. adapted from Stojiljkovic (2019).\n",
    "Testspeed = np.array([15.5]) # https://docs.scipy.org/doc/numpy/user/basics.creation.html\n",
    "\n",
    "# Convert 1D array Xfit into 2D array in the shape of a column vector by inserting an axis along second dimension\n",
    "Testspeed = Testspeed[:, np.newaxis] \n",
    "# display the shape of an array Testbill\n",
    "Testspeed.shape # adapted from https://stackoverflow.com/a/10200284"
   ]
  },
  {
   "cell_type": "code",
   "execution_count": 28,
   "metadata": {},
   "outputs": [
    {
     "name": "stdout",
     "output_type": "stream",
     "text": [
      "Predicted output if windspeed is 15.5 is: [67.25414603]\n"
     ]
    }
   ],
   "source": [
    "# Predict Tip for Total Bill of $100\n",
    "# To obtain the predicted response, use .predict():adapted from Stojiljkovic (2019).\n",
    "y_pred = (model.predict(Testspeed))\n",
    "print('Predicted output if windspeed is 15.5 is:', y_pred)"
   ]
  },
  {
   "cell_type": "markdown",
   "metadata": {},
   "source": [
    "## 6.0 Polynomial Regression <a id='linear'></a>"
   ]
  },
  {
   "cell_type": "code",
   "execution_count": 29,
   "metadata": {},
   "outputs": [],
   "source": [
    "# Step 1: Import packages and classes - solution adapted from Stojiljkovic (2019).\n",
    "# import the class PolynomialFeatures from sklearn.preprocessing:\n",
    "from sklearn.preprocessing import PolynomialFeatures"
   ]
  },
  {
   "cell_type": "code",
   "execution_count": 75,
   "metadata": {},
   "outputs": [
    {
     "data": {
      "text/plain": [
       "(451, 1)"
      ]
     },
     "execution_count": 75,
     "metadata": {},
     "output_type": "execute_result"
    }
   ],
   "source": [
    "#Step 2a: Provide data\n",
    "\n",
    "XX = np.asarray(predictors['speed']) # https://docs.scipy.org/doc/numpy/reference/generated/numpy.asarray.html\n",
    "# Convert 1 array XX into 2D array called X2 in the shape of a column vector by inserting an axis along second dimension\n",
    "X2 = XX[:, np.newaxis] # https://medium.com/@ian.dzindo01/what-is-numpy-newaxis-and-when-to-use-it-8cb61c7ed6ae\n",
    "# Print shape of X2 array\n",
    "X2.shape\n",
    "\n"
   ]
  },
  {
   "cell_type": "code",
   "execution_count": 77,
   "metadata": {},
   "outputs": [],
   "source": [
    "#Step 2b: Transform input data\n",
    "x_ = PolynomialFeatures(degree=2, include_bias=False).fit_transform(X2)"
   ]
  },
  {
   "cell_type": "code",
   "execution_count": 78,
   "metadata": {},
   "outputs": [],
   "source": [
    "#transformer.fit(x)"
   ]
  },
  {
   "cell_type": "code",
   "execution_count": 79,
   "metadata": {},
   "outputs": [
    {
     "data": {
      "text/plain": [
       "(451, 2)"
      ]
     },
     "execution_count": 79,
     "metadata": {},
     "output_type": "execute_result"
    }
   ],
   "source": [
    "#x_ = transformer.transform(x)\n",
    "x_.shape"
   ]
  },
  {
   "cell_type": "code",
   "execution_count": 80,
   "metadata": {},
   "outputs": [
    {
     "data": {
      "text/plain": [
       "(451,)"
      ]
     },
     "execution_count": 80,
     "metadata": {},
     "output_type": "execute_result"
    }
   ],
   "source": [
    "y2 = predictors['power']\n",
    "y2.shape\n"
   ]
  },
  {
   "cell_type": "code",
   "execution_count": 81,
   "metadata": {},
   "outputs": [],
   "source": [
    "model = LinearRegression(fit_intercept=False).fit(x_, y2)"
   ]
  },
  {
   "cell_type": "code",
   "execution_count": 82,
   "metadata": {},
   "outputs": [
    {
     "name": "stdout",
     "output_type": "stream",
     "text": [
      "coefficient of determination: 0.88316542202907\n",
      "intercept: 0.0\n",
      "coefficients: [2.3287779  0.11343664]\n"
     ]
    }
   ],
   "source": [
    "r_sq = model.score(x_, y2)\n",
    "print('coefficient of determination:', r_sq)\n",
    "\n",
    "print('intercept:', model.intercept_)\n",
    "\n",
    "print('coefficients:', model.coef_)"
   ]
  },
  {
   "cell_type": "code",
   "execution_count": 83,
   "metadata": {},
   "outputs": [
    {
     "name": "stdout",
     "output_type": "stream",
     "text": [
      "predicted response:\n",
      "[  0.76883456   0.94966102   1.07092097   1.19519044   1.25632237\n",
      "   1.3175961    1.37901162   1.50226806   1.62609168   1.68821618\n",
      "   1.93813215   2.00096564   2.06394092   2.25371752   2.31725999\n",
      "   2.38094424   2.4447703    2.57284779   2.70149247   2.83070433\n",
      "   3.0908296    3.1562154    3.48527138   3.55150796   3.75373791\n",
      "   4.15672146   4.29218368   4.77076801   4.83970439   5.60736302\n",
      "   5.74878066   6.24820898   6.46437662   6.6847283    6.75749883\n",
      "   7.12347843   7.49300292   7.5673332    7.8660723    8.01629263\n",
      "   8.09161549   8.16708014   8.24268659   8.62284576   9.16102403\n",
      "   9.23847382   9.31606541   9.63097903   9.86632313   9.94505476\n",
      "  10.18210042  10.26139923  10.82046118  10.90089436  10.98146933\n",
      "  11.0621861   11.71302489  12.1244075   12.20710941  12.87718574\n",
      "  12.96116948  13.12956236  13.55302597  13.72340398  14.15183045\n",
      "  14.23794113  14.3241936   14.41058788  14.58380181  14.75758292\n",
      "  14.93193122  15.1068467   15.19451714  15.37028339  15.45837921\n",
      "  15.54661683  15.98993185  16.07902024  16.26120024  16.71021546\n",
      "  16.89081412  16.98132614  17.07197995  17.43601318  17.71052696\n",
      "  17.89424512  17.9863169   18.07853047  18.17088584  18.35602196\n",
      "  18.44880271  18.54172527  18.63478961  18.72799575  18.91483342\n",
      "  19.38440903  19.57323184  19.76262184  19.85752953  20.33802254\n",
      "  20.62574034  20.81826119  20.9147343   21.20500443  21.78937317\n",
      "  22.08347178  22.18178824  22.47758841  22.57647205  22.67549749\n",
      "  22.77466473  22.87397376  23.07301722  23.37264586  23.47280567\n",
      "  23.87889489  24.0807856   24.2832435   24.38468514  24.58799381\n",
      "  24.68986084  24.79186967  25.09874692  25.20132292  25.30404073\n",
      "  25.40690033  25.50990172  25.61304491  26.02703564  26.23488177\n",
      "  26.44329509  26.6522756   26.75697854  27.17720828  27.59970675\n",
      "  27.81180676  28.13528504  28.56291085  28.67017179  28.77757453\n",
      "  29.10063351  29.42496866  29.53336397  29.64190107  29.96836316\n",
      "  31.06578683  31.28697312  31.50872659  32.06559168  32.51812799\n",
      "  32.63049925  32.85566716  33.42106836  33.76201063  33.87594165\n",
      "  33.99001446  34.10422907  34.33308367  34.44772366  34.56250545\n",
      "  34.79249442  35.02305057  35.13854134  35.2541739   35.36994826\n",
      "  35.48586442  35.60192237  35.71812212  35.83446367  35.95094701\n",
      "  36.3012478   36.41829832  36.88791837  37.24634694  37.71995996\n",
      "  37.95761724  38.07665858  38.19584171  38.7938843   39.15441141\n",
      "  39.2748707   39.39547179  39.51621468  39.87929411  40.12205604\n",
      "  40.36538516  40.7314423   40.85374494  40.97618938  41.09877561\n",
      "  41.22150363  42.3373998   42.58584491  42.71028016  42.95957604\n",
      "  43.20943911  43.33458333  43.58529717  43.9624314   44.08842641\n",
      "  44.2145632   44.46726218  45.10149107  45.22876223  45.35617519\n",
      "  45.6114265   45.73926484  45.99536693  46.12363066  46.25203619\n",
      "  46.38058352  46.63810356  46.76707627  47.03062028  47.16002406\n",
      "  47.28956963  47.41925699  47.6790571   47.9394244   48.06982075\n",
      "  48.33103882  48.7239294   48.85517652  49.24976865  49.38158295\n",
      "  49.64563694  50.84089878  51.10807228  51.24187172  51.50989599\n",
      "  51.77848745  52.32277221  52.45785349  53.27131885  53.4073927\n",
      "  54.50108812  54.63843813  54.77592994  54.91356354  55.05133893\n",
      "  55.60385848  55.88096902  56.29769831  56.43689167  56.71570376\n",
      "  56.8553225   56.99508304  57.55554315  57.84225138  58.12391074\n",
      "  58.26495311  58.40613727  58.83054055  58.9722919   59.11418505\n",
      "  59.54071526  59.68317559  60.82796287  61.11557765  61.25959774\n",
      "  61.40375961  61.54806329  61.69250876  61.83709603  61.98182509\n",
      "  62.2717086   62.41686305  62.85317717  63.14476223  63.29076746\n",
      "  63.5890578   63.88207216  64.32265717  64.61708949  64.76451835\n",
      "  64.912089    65.20765568  65.80049061  66.24660566  66.54472467\n",
      "  66.69399687  66.84341086  67.4424848   67.74287255  68.04382747\n",
      "  68.49632333  68.95009535  69.10163629  69.71530525  69.86756083\n",
      "  70.01995821  70.32517835  70.47800112  70.63096568  71.09071014\n",
      "  71.39791543  71.85978682  72.01402755  72.16841007  72.32293438\n",
      "  72.4776005   72.78735811  73.0976829   73.25305799  74.03206038\n",
      "  74.34465391  74.50116336  74.65781461  74.97154251  75.12861915\n",
      "  75.28583758  75.44319781  75.60700287  75.76465237  75.92244366\n",
      "  76.08037674  76.23845163  76.39666831  77.34894609  77.50815533\n",
      "  77.66750638  77.98663386  78.94741938  79.10804659  79.26881559\n",
      "  80.07478754  80.39816889  80.72211743  81.04663314  81.2091037\n",
      "  81.37171604  82.03011352  82.19344052  82.52051991  82.68427229\n",
      "  83.17638023  83.50516116  83.66976432  83.83450928  84.16442458\n",
      "  84.32959492  84.660361    84.82595673  85.15757358  85.48975761\n",
      "  85.65606232  85.82250883  86.32269912  86.48971281  86.99160465\n",
      "  88.16764847  88.84955592  89.01870222  89.18799031  89.3574202\n",
      "  89.52699189  89.69670537  89.86656065  90.03655772  90.37697725\n",
      "  90.54739971  90.71796397  90.88867002  91.23050751  91.57291219\n",
      "  91.74432722  92.25942309  92.77579511  92.94820272  93.12075211\n",
      "  93.46627629  93.81236766  93.98562604  94.15902621  94.33256818\n",
      "  95.20240495  95.55831656  95.90782237  96.43314455  96.60853554\n",
      "  97.31151743  97.4876174   98.01676806  99.2564158   99.43407552\n",
      "  99.78982034 101.21847147 101.75655527 101.93620013 102.11598678\n",
      " 102.29591523 102.47598548 103.38569776 103.74769295 104.11025531\n",
      " 104.83708159 105.01914265 105.5661766  106.29754034 106.66407299\n",
      " 107.21493543 107.76707403 107.95140382 108.13587541 108.32048879\n",
      " 108.50524397 108.69014095 109.24568265 109.61675276 109.80250051\n",
      " 109.99582859 110.74082741 111.1141776  111.48809497 111.86257953\n",
      " 112.0500345  112.23763127 112.61325019 113.74351005 114.49985254\n",
      " 115.25846377 115.44847106 115.63862015 115.82891104 116.01934372\n",
      " 116.2099182  116.40063448 116.78249241 117.16491753 117.35634279\n",
      " 117.74728998 117.9391463  118.1311444  118.32328431 118.9005548\n",
      " 119.09326188 119.67223392 119.86550819 120.05892426 120.44618178\n",
      " 120.83400648 121.02813153 121.416807   121.61135744 122.58623654\n",
      " 122.78163775 123.17286555 123.56466053 123.9570227  124.15341648\n",
      " 124.34995205]\n"
     ]
    }
   ],
   "source": [
    "y_pred = model.predict(x_)\n",
    "print('predicted response:', y_pred, sep='\\n')"
   ]
  },
  {
   "cell_type": "code",
   "execution_count": 87,
   "metadata": {},
   "outputs": [
    {
     "data": {
      "image/png": "[encoded data removed]",
      "text/plain": [
       "<Figure size 1080x720 with 1 Axes>"
      ]
     },
     "metadata": {},
     "output_type": "display_data"
    }
   ],
   "source": [
    "# Visualize the results\n",
    "\n",
    "# Resize Plot to creates a figure with 15 (width) x 10 (height) inches - Adapted from https://stackoverflow.com/a/36368418\n",
    "plt.figure(figsize=(15,10))\n",
    "plt.xlabel('Speed') # Label x Axis \n",
    "plt.ylabel('Power') # Label y Axis \n",
    "\n",
    "# Create a scatter plot of X2 and y2 and plot the regression line which is the predicted response when data is input into the regression model\n",
    "plt.scatter(x, y)\n",
    "plt.plot(x, y_pred,color=\"red\")\n",
    "plt.show()"
   ]
  },
  {
   "cell_type": "code",
   "execution_count": null,
   "metadata": {},
   "outputs": [],
   "source": []
  },
  {
   "cell_type": "markdown",
   "metadata": {},
   "source": [
    "## 7.0 References <a id='references'></a>\n",
    "   1. Met Office (2020) *How we measure wind* [Online] Available at:https://www.metoffice.gov.uk/weather/guides/observations/how-we-measure-wind#:~:text=The%20instruments%20used%20to%20measure,%2D1%20%3D%201.15%20mph) [Accessed 13 Nov 2020]\n",
    "   1. Pickerel, K (2010) *How to calculate power output of wind* [Online] Available at:https://www.windpowerengineering.com/calculate-wind-power-output/ [Accessed 13 Nov 2020]\n",
    "   1. Sharma, N (2018) *Cleaning data for data visualisation* [Online] Available \n",
    "   https://confusedcoders.com/data-science/cleaning-data-for-data-visualisation [Accessed 13 Nov 2020]\n",
    "   1. Willems, K (2017) *Python Exploratory Data Analysis Tutorial* [Online] Available at:https://www.datacamp.com/community/tutorials/exploratory-data-analysis-python [Accessed 13 Nov 2020]\n",
    "   1. US Dept of Energy (2020) *The Inside of a Wind Turbine* [Online] Available at:https://www.energy.gov/eere/wind/inside-wind-turbine#:~:text=Starts%20up%20the%20machine%20at,damaged%20by%20the%20high%20winds. [Accessed 13 Nov 2020]\n",
    "   1. Pathak, P (2020) *A beginner’s guide to Linear Regression in Python with Scikit-Learn* [Online] Available at:https://medium.com/analytics-vidhya/a-beginners-guide-to-linear-regression-in-python-with-scikit-learn-6b0fe70b32d7 [Accessed 13 Nov 2020]\n",
    "   1. Frost, J (2019) *Regression coefficients* [Online] Available at:https://statisticsbyjim.com/glossary/regression-coefficient/ [Accessed 13 Nov 2020]\n",
    "   1. Liran, B (2017) *PYTHON MACHINE LEARNING EXAMPLE – LINEAR REGRESSION* [Online] Available at: \n",
    "    https://devarea.com/python-machine-learning-example-linear-regression/#.XeDYeej7TIV [Accessed 13 Nov 2020]\n",
    "   1. Stojiljkovic, M (2019) *Simple Linear Regression With scikit-learn* [Online] Available at:https://realpython.com/linear-regression-in-python/ [Accessed 13 Nov 2020]\n",
    "   1. Lalitha, R (2017) *Iris Dataset - Exploratory Data Analysis* [Online] Available at:https://realpython.com/linear-regression-in-python/https://www.kaggle.com/lalitharajesh/iris-dataset-exploratory-data-analysis [Accessed 13 Nov 2020]\n",
    "   1. Willems, K (2017) *Python Exploratory Data Analysis Tutorial* [Online] Available at:https://www.datacamp.com/community/tutorials/exploratory-data-analysis-python [Accessed 13 Nov 2020]\n",
    "   1. McLoughlin, I (2019) *Descriptive Statistics and Plots with Pandas* [Online] Available at:https://web.microsoftstream.com/video/ecc9ce4a-c6f5-4c50-a4f4-29116fc21b81?referrer=https:%2F%2Flearnonline.gmit.ie%2Fcourse%2Fview.php%3Fid%3D689 [Accessed 13 Nov 2020]\n",
    "   \n",
    "   \n",
    "   \n",
    "   \n",
    "   1. Bryant, P. G. and Smith, M (1995) *Practical Data Analysis: Case Studies in Business Statistics* Homewood, IL: Richard D. Irwin Publishing.\n",
    "   1. Waskom, M (2014) *seaborn-data* [Online] Available at:https://github.com/mwaskom/seaborn-data/blob/master/tips.csv [Accessed 18 Oct 2019]\n",
    "   2. Computer Hope (2018) *How To Create A CSV File* [Online] Available at: https://www.computerhope.com/jargon/n/newline.htm [Accessed 1 April 2019].\n",
    "   3. Glen, S (2014) *Pearson Mode Skewness* [Online] Available at:https://www.statisticshowto.datasciencecentral.com/pearson-mode-skewness/ [Accessed 18 Oct 2019]\n",
    "   4. McLoughlin, I (2019) *Descriptive Statistics and Plots with Pandas* [Online] Available at:https://web.microsoftstream.com/video/ecc9ce4a-c6f5-4c50-a4f4-29116fc21b81?referrer=https:%2F%2Flearnonline.gmit.ie%2Fcourse%2Fview.php%3Fid%3D689 [Accessed 18 Oct 2019]\n",
    "   1. McKinney, W (2019) *Wes McKinney: pandas in 10 minutes | Walkthrough* [Online] Available at:https://www.youtube.com/watch?foo=bar&v=_T8LGqJtuGc [Accessed 19 Oct 2019]\n",
    "   1. McKinney, W (2012) *Python for Data Analysis* 1st Ed. O’Reilly Media, Inc.\n",
    "   1. Haunschmid, V (2017) *How to make inline plots in Jupyter Notebook larger?* [Online] Available at:https://stackoverflow.com/a/36368418 [Accessed 26 Oct 2019]\n",
    "   \n",
    "   1. Bundock, V (2019) *R Week 4 Assignment - Charting Tips* [Online] Available at:http://rstudio-pubs-static.s3.amazonaws.com/128623_507fbe51532748f29278825fceedab85.html [Accessed 26 Oct 2019]\n",
    "   1. geeksforgeeks.org (2019) *Python | Pandas dataframe.groupby()* [Online] Available at:https://www.geeksforgeeks.org/python-pandas-dataframe-groupby/ [Accessed 10 Nov 2019]\n",
    "   \n",
    "   1. StatTrek.com (2019) *Coefficient of Determination* [Online] Available at:https://stattrek.com/statistics/dictionary.aspx?definition=coefficient_of_determination [Accessed 19 Nov 2019]\n",
    "  \n",
    "   1. Minitab.com (2019) *Regression Analysis: How Do I Interpret R-squared and Assess the Goodness-of-Fit?* [Online] Available at:https://blog.minitab.com/blog/adventures-in-statistics-2/regression-analysis-how-do-i-interpret-r-squared-and-assess-the-goodness-of-fit [Accessed 19 Nov 2019]\n",
    "   1. Waskom, M (2018) *Visualizing statistical relationships* [Online] Available at:https://seaborn.pydata.org/tutorial/relational.html [Accessed 23 Nov 2019]\n",
    "   1. Statsmakemecry.com (2012) *Confusing Stats Terms Explained: Heteroscedasticity (Heteroskedasticity)* [Online] Available at:http://www.statsmakemecry.com/smmctheblog/confusing-stats-terms-explained-heteroscedasticity-heteroske.html [Accessed 23 Nov 2019]\n",
    "   1. Sharma, N (2018) *Exploratory Data Analysis (EDA) techniques for Kaggle competition beginners* [Online] Available at:https://towardsdatascience.com/exploratory-data-analysis-eda-techniques-for-kaggle-competition-beginners-be4237c3c3a9 [Accessed 23 Nov 2019]\n",
    "   1. Doshi, S (2019) *EAnalyze the data through data visualization using Seaborn* [Online] Available at:https://towardsdatascience.com/analyze-the-data-through-data-visualization-using-seaborn-255e1cd3948e [Accessed 23 Nov 2019]\n",
    "   \n",
    "   1. National Institute of Standards and Technology (2012) *What is EDA?* [Online] Available at:\n",
    "   https://www.itl.nist.gov/div898/handbook/eda/section1/eda11.htm [Accessed 24 Nov 2019]\n",
    "   1. Sarkar, D (2018) *The Art of Effective Visualization of Multi-dimensional Data* [Online] Available at: \n",
    "    https://towardsdatascience.com/the-art-of-effective-visualization-of-multi-dimensional-data-6c7202990c57 [Accessed 24 Nov 2019]\n",
    "   "
   ]
  },
  {
   "cell_type": "code",
   "execution_count": null,
   "metadata": {},
   "outputs": [],
   "source": []
  }
 ],
 "metadata": {
  "kernelspec": {
   "display_name": "Python 3",
   "language": "python",
   "name": "python3"
  },
  "language_info": {
   "codemirror_mode": {
    "name": "ipython",
    "version": 3
   },
   "file_extension": ".py",
   "mimetype": "text/x-python",
   "name": "python",
   "nbconvert_exporter": "python",
   "pygments_lexer": "ipython3",
   "version": "3.8.3"
  }
 },
 "nbformat": 4,
 "nbformat_minor": 4
}
