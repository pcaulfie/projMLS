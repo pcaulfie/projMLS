{
 "cells": [
  {
   "cell_type": "markdown",
   "metadata": {},
   "source": [
    "# Project 2020\n",
    "## Machine Learning and Statistics\n",
    "#### Due: last commit on or before January 8th, 2021\n",
    "These are the instructions for the Project assessment for Machine Learning and Statistics\n",
    "in 2020. The assessment is worth 50% of the marks for the module. Please read\n",
    "the Using git for assessments [2] document on the Moodle page which applies here. As\n",
    "always, you must also follow the code of student conduct and the policy on plagiarism [1].\n",
    "### Instructions\n",
    "In this project you must create a web service that uses machine learning to make predictions\n",
    "based on the data set powerproduction available on Moodle. The goal is to\n",
    "produce a model that accurately predicts wind turbine power output from wind speed\n",
    "values, as in the data set. You must then develop a web service that will respond with\n",
    "predicted power values based on speed values sent as HTTP requests. Your submission\n",
    "must be in the form of a git repository containing, at a minimum, the following items:\n",
    "1. Jupyter notebook that trains a model using the data set. In the notebook you\n",
    "should explain your model and give an analysis of its accuracy.\n",
    "2. Python script that runs a web service based on the model, as above.\n",
    "3. Dockerfile to build and run the web service in a container.\n",
    "4. Standard items in a git repository such as a README.\n",
    "To enhance your submission, you might consider developing and comparing more than\n",
    "one model. Rest assured, all the above concepts will be explored in lecture videos and\n",
    "other materials in the coming semester.\n"
   ]
  },
  {
   "cell_type": "markdown",
   "metadata": {},
   "source": [
    "### Import Libraries"
   ]
  },
  {
   "cell_type": "code",
   "execution_count": 3,
   "metadata": {},
   "outputs": [],
   "source": [
    "# Efficient numerical arrays.\n",
    "import numpy as np\n",
    "# Data frames.\n",
    "import pandas as pd\n",
    "# Alternative statistics package.\n",
    "import statsmodels.stats.weightstats as stat\n",
    "# Mains statistics package.\n",
    "import scipy.stats as ss\n",
    "# Plotting.\n",
    "import matplotlib.pyplot as plt\n",
    "# Fancier plotting.\n",
    "import seaborn as sns\n",
    "\n",
    "# Better sized plots.\n",
    "plt.rcParams['figure.figsize'] = (12, 8)\n",
    "\n",
    "# Nicer colours and styles for plots.\n",
    "plt.style.use(\"fivethirtyeight\")"
   ]
  },
  {
   "cell_type": "markdown",
   "metadata": {},
   "source": [
    "### Load Data"
   ]
  },
  {
   "cell_type": "code",
   "execution_count": 4,
   "metadata": {},
   "outputs": [
    {
     "data": {
      "text/html": [
       "<div>\n",
       "<style scoped>\n",
       "    .dataframe tbody tr th:only-of-type {\n",
       "        vertical-align: middle;\n",
       "    }\n",
       "\n",
       "    .dataframe tbody tr th {\n",
       "        vertical-align: top;\n",
       "    }\n",
       "\n",
       "    .dataframe thead th {\n",
       "        text-align: right;\n",
       "    }\n",
       "</style>\n",
       "<table border=\"1\" class=\"dataframe\">\n",
       "  <thead>\n",
       "    <tr style=\"text-align: right;\">\n",
       "      <th></th>\n",
       "      <th>speed</th>\n",
       "      <th>power</th>\n",
       "    </tr>\n",
       "  </thead>\n",
       "  <tbody>\n",
       "    <tr>\n",
       "      <th>0</th>\n",
       "      <td>0.000</td>\n",
       "      <td>0.0</td>\n",
       "    </tr>\n",
       "    <tr>\n",
       "      <th>1</th>\n",
       "      <td>0.125</td>\n",
       "      <td>0.0</td>\n",
       "    </tr>\n",
       "    <tr>\n",
       "      <th>2</th>\n",
       "      <td>0.150</td>\n",
       "      <td>0.0</td>\n",
       "    </tr>\n",
       "    <tr>\n",
       "      <th>3</th>\n",
       "      <td>0.225</td>\n",
       "      <td>0.0</td>\n",
       "    </tr>\n",
       "    <tr>\n",
       "      <th>4</th>\n",
       "      <td>0.275</td>\n",
       "      <td>0.0</td>\n",
       "    </tr>\n",
       "    <tr>\n",
       "      <th>...</th>\n",
       "      <td>...</td>\n",
       "      <td>...</td>\n",
       "    </tr>\n",
       "    <tr>\n",
       "      <th>495</th>\n",
       "      <td>24.775</td>\n",
       "      <td>0.0</td>\n",
       "    </tr>\n",
       "    <tr>\n",
       "      <th>496</th>\n",
       "      <td>24.850</td>\n",
       "      <td>0.0</td>\n",
       "    </tr>\n",
       "    <tr>\n",
       "      <th>497</th>\n",
       "      <td>24.875</td>\n",
       "      <td>0.0</td>\n",
       "    </tr>\n",
       "    <tr>\n",
       "      <th>498</th>\n",
       "      <td>24.950</td>\n",
       "      <td>0.0</td>\n",
       "    </tr>\n",
       "    <tr>\n",
       "      <th>499</th>\n",
       "      <td>25.000</td>\n",
       "      <td>0.0</td>\n",
       "    </tr>\n",
       "  </tbody>\n",
       "</table>\n",
       "<p>500 rows × 2 columns</p>\n",
       "</div>"
      ],
      "text/plain": [
       "      speed  power\n",
       "0     0.000    0.0\n",
       "1     0.125    0.0\n",
       "2     0.150    0.0\n",
       "3     0.225    0.0\n",
       "4     0.275    0.0\n",
       "..      ...    ...\n",
       "495  24.775    0.0\n",
       "496  24.850    0.0\n",
       "497  24.875    0.0\n",
       "498  24.950    0.0\n",
       "499  25.000    0.0\n",
       "\n",
       "[500 rows x 2 columns]"
      ]
     },
     "execution_count": 4,
     "metadata": {},
     "output_type": "execute_result"
    }
   ],
   "source": [
    "# Load the powerproduction dataset from a csv file using read_csv function into dataframe called df\n",
    "# adapted from https://www.datacamp.com/community/tutorials/exploratory-data-analysis-python and McLoughlin (2019)\n",
    "df = pd.read_csv(\"powerproduction.csv\")\n",
    "# Display the dataframe\n",
    "df"
   ]
  },
  {
   "cell_type": "markdown",
   "metadata": {},
   "source": [
    "### 1.4 Review Data Types <a id='types'></a>\n",
    "\n",
    "Sharma (2018) recommends that once the data has been loaded, the next step is to review the data-type / features of the data.\n",
    "\n",
    "Data-Types / Features fall into the following categories:\n",
    "* numeric (Integers / Floats)\n",
    "* categorical (Class)\n",
    "* ordinal (Data that can be ranked in an order)  \n",
    "* datetime\n",
    "* coordinates\n",
    "\n",
    "The Pandas dataframe.dtypes command is used to display the data types/features of dataset"
   ]
  },
  {
   "cell_type": "code",
   "execution_count": 6,
   "metadata": {},
   "outputs": [
    {
     "data": {
      "text/plain": [
       "speed    float64\n",
       "power    float64\n",
       "dtype: object"
      ]
     },
     "execution_count": 6,
     "metadata": {},
     "output_type": "execute_result"
    }
   ],
   "source": [
    "# Use DataFrame.dtypes command to find out the data type (dtype) of each column in the given dataframe. \n",
    "df.dtypes"
   ]
  },
  {
   "cell_type": "code",
   "execution_count": 19,
   "metadata": {},
   "outputs": [
    {
     "data": {
      "text/html": [
       "<div>\n",
       "<style scoped>\n",
       "    .dataframe tbody tr th:only-of-type {\n",
       "        vertical-align: middle;\n",
       "    }\n",
       "\n",
       "    .dataframe tbody tr th {\n",
       "        vertical-align: top;\n",
       "    }\n",
       "\n",
       "    .dataframe thead th {\n",
       "        text-align: right;\n",
       "    }\n",
       "</style>\n",
       "<table border=\"1\" class=\"dataframe\">\n",
       "  <thead>\n",
       "    <tr style=\"text-align: right;\">\n",
       "      <th></th>\n",
       "      <th>speed</th>\n",
       "      <th>power</th>\n",
       "    </tr>\n",
       "  </thead>\n",
       "  <tbody>\n",
       "    <tr>\n",
       "      <th>count</th>\n",
       "      <td>500.000000</td>\n",
       "      <td>500.000000</td>\n",
       "    </tr>\n",
       "    <tr>\n",
       "      <th>mean</th>\n",
       "      <td>12.590398</td>\n",
       "      <td>48.014584</td>\n",
       "    </tr>\n",
       "    <tr>\n",
       "      <th>std</th>\n",
       "      <td>7.224991</td>\n",
       "      <td>41.614572</td>\n",
       "    </tr>\n",
       "    <tr>\n",
       "      <th>min</th>\n",
       "      <td>0.000000</td>\n",
       "      <td>0.000000</td>\n",
       "    </tr>\n",
       "    <tr>\n",
       "      <th>25%</th>\n",
       "      <td>6.324750</td>\n",
       "      <td>5.288000</td>\n",
       "    </tr>\n",
       "    <tr>\n",
       "      <th>50%</th>\n",
       "      <td>12.550500</td>\n",
       "      <td>41.645500</td>\n",
       "    </tr>\n",
       "    <tr>\n",
       "      <th>75%</th>\n",
       "      <td>18.775250</td>\n",
       "      <td>93.537000</td>\n",
       "    </tr>\n",
       "    <tr>\n",
       "      <th>max</th>\n",
       "      <td>25.000000</td>\n",
       "      <td>113.556000</td>\n",
       "    </tr>\n",
       "  </tbody>\n",
       "</table>\n",
       "</div>"
      ],
      "text/plain": [
       "            speed       power\n",
       "count  500.000000  500.000000\n",
       "mean    12.590398   48.014584\n",
       "std      7.224991   41.614572\n",
       "min      0.000000    0.000000\n",
       "25%      6.324750    5.288000\n",
       "50%     12.550500   41.645500\n",
       "75%     18.775250   93.537000\n",
       "max     25.000000  113.556000"
      ]
     },
     "execution_count": 19,
     "metadata": {},
     "output_type": "execute_result"
    }
   ],
   "source": [
    "df.describe()"
   ]
  },
  {
   "cell_type": "code",
   "execution_count": 5,
   "metadata": {},
   "outputs": [
    {
     "data": {
      "image/png": "[encoded data removed]",
      "text/plain": [
       "<Figure size 360x360 with 1 Axes>"
      ]
     },
     "metadata": {},
     "output_type": "display_data"
    }
   ],
   "source": [
    "# One type of plot available in seaborn.\n",
    "sns.catplot(x='speed', y='power', jitter=False, data=df);"
   ]
  },
  {
   "cell_type": "markdown",
   "metadata": {},
   "source": [
    "### 1.5 Data Set Description <a id='description'></a>\n",
    "\n",
    "By loading the data set and displaying the dataframe and running the dataframe.dtypes command , it's possible to determine some basic details of the dataset as follows: \n",
    "\n",
    "* The powerproduction data set is a comma-separated values (csv) file with 500 records (rows of data) and 2 fields (columns).\n",
    "    * Each record (row of data) is located on a separate line, delimited by a line break. \n",
    "    * The fields of data in the header line and each record (row) are delimited with a comma. \n",
    "    * Each row or data is indexed, the index is shown in the column on the left, but the index is not part of the dataset itself.\n",
    "* The first line of the file is the header line, containing the names of the 2 fields: \"speed\",\"power\".\n",
    "    * The two columns; \"speed\",\"power\", contain floats.\n",
    "    * The \"speed\" column displays wind speed data - the unit of measure is meter per second, it is assumed this is a measure of wind intensity as opposed to maximum wind speed. According to the Met Office (2020)  wind intensity is defined by the average wind speed over a ten minute period being reported. \n",
    "    * The \"power\" column displays power output which is measure in kilowatts (Pickerel, 2010).\n",
    "* Reviewing the values of Mean, Std, Min, Median(median represents the 50th percentile or the middle value of the data), and Max.\n",
    "    * The wind speeds column seems to follow the pattern of a normal distribution\n",
    "    * The power output column, showns a large difference between Min and MAX, their difference in Mean and median too, which means this column is noisy and this is borne out by the visualization."
   ]
  },
  {
   "cell_type": "markdown",
   "metadata": {},
   "source": [
    "## 2.0 Data Cleaning <a id='cleaning'></a>\n",
    "\n",
    "Data cleaning is the process of ensuring that your data is correct and useable by identifying any errors in the data, or missing data by correcting or deleting them (Sharma, 2018). \n",
    "\n",
    "### 2.1 Detect Missing Data <a id='missing'></a>\n",
    "\n",
    "Sharma (2018) highlights missing data as a common issue with data sets and can occur when no data value is recorded for the variable in an observation. Missing data can have a significant impact on the conclusions that can be drawn from the data. "
   ]
  },
  {
   "cell_type": "code",
   "execution_count": 7,
   "metadata": {},
   "outputs": [
    {
     "data": {
      "text/plain": [
       "speed    0\n",
       "power    0\n",
       "dtype: int64"
      ]
     },
     "execution_count": 7,
     "metadata": {},
     "output_type": "execute_result"
    }
   ],
   "source": [
    "# Check if the dataframe has missing data using the pandas.isnull(obj) function. \n",
    "# adapted from https://confusedcoders.com/data-science/cleaning-data-for-data-visualisation\n",
    "df.isnull().sum() #detect missing values \n",
    "# The below results indicate that no data is missing from the array."
   ]
  },
  {
   "cell_type": "markdown",
   "metadata": {},
   "source": [
    "### 2.2 First and Last DataFrame Rows <a id='first'></a>\n",
    "\n",
    "Having established some basic details about the data set, Willems (2017) suggests that its good idea to take a closer look at the data itself. I used the pandas head() and tail() functions take a look the first and last lines of the data set to see if there was anything unusual."
   ]
  },
  {
   "cell_type": "code",
   "execution_count": 9,
   "metadata": {},
   "outputs": [
    {
     "data": {
      "text/html": [
       "<div>\n",
       "<style scoped>\n",
       "    .dataframe tbody tr th:only-of-type {\n",
       "        vertical-align: middle;\n",
       "    }\n",
       "\n",
       "    .dataframe tbody tr th {\n",
       "        vertical-align: top;\n",
       "    }\n",
       "\n",
       "    .dataframe thead th {\n",
       "        text-align: right;\n",
       "    }\n",
       "</style>\n",
       "<table border=\"1\" class=\"dataframe\">\n",
       "  <thead>\n",
       "    <tr style=\"text-align: right;\">\n",
       "      <th></th>\n",
       "      <th>speed</th>\n",
       "      <th>power</th>\n",
       "    </tr>\n",
       "  </thead>\n",
       "  <tbody>\n",
       "    <tr>\n",
       "      <th>0</th>\n",
       "      <td>0.000</td>\n",
       "      <td>0.0</td>\n",
       "    </tr>\n",
       "    <tr>\n",
       "      <th>1</th>\n",
       "      <td>0.125</td>\n",
       "      <td>0.0</td>\n",
       "    </tr>\n",
       "    <tr>\n",
       "      <th>2</th>\n",
       "      <td>0.150</td>\n",
       "      <td>0.0</td>\n",
       "    </tr>\n",
       "    <tr>\n",
       "      <th>3</th>\n",
       "      <td>0.225</td>\n",
       "      <td>0.0</td>\n",
       "    </tr>\n",
       "    <tr>\n",
       "      <th>4</th>\n",
       "      <td>0.275</td>\n",
       "      <td>0.0</td>\n",
       "    </tr>\n",
       "  </tbody>\n",
       "</table>\n",
       "</div>"
      ],
      "text/plain": [
       "   speed  power\n",
       "0  0.000    0.0\n",
       "1  0.125    0.0\n",
       "2  0.150    0.0\n",
       "3  0.225    0.0\n",
       "4  0.275    0.0"
      ]
     },
     "execution_count": 9,
     "metadata": {},
     "output_type": "execute_result"
    }
   ],
   "source": [
    "# Inspect the first 5 rows - adapted from https://www.datacamp.com/community/tutorials/exploratory-data-analysis-python\n",
    "df.head()"
   ]
  },
  {
   "cell_type": "code",
   "execution_count": 8,
   "metadata": {},
   "outputs": [
    {
     "data": {
      "text/html": [
       "<div>\n",
       "<style scoped>\n",
       "    .dataframe tbody tr th:only-of-type {\n",
       "        vertical-align: middle;\n",
       "    }\n",
       "\n",
       "    .dataframe tbody tr th {\n",
       "        vertical-align: top;\n",
       "    }\n",
       "\n",
       "    .dataframe thead th {\n",
       "        text-align: right;\n",
       "    }\n",
       "</style>\n",
       "<table border=\"1\" class=\"dataframe\">\n",
       "  <thead>\n",
       "    <tr style=\"text-align: right;\">\n",
       "      <th></th>\n",
       "      <th>speed</th>\n",
       "      <th>power</th>\n",
       "    </tr>\n",
       "  </thead>\n",
       "  <tbody>\n",
       "    <tr>\n",
       "      <th>495</th>\n",
       "      <td>24.775</td>\n",
       "      <td>0.0</td>\n",
       "    </tr>\n",
       "    <tr>\n",
       "      <th>496</th>\n",
       "      <td>24.850</td>\n",
       "      <td>0.0</td>\n",
       "    </tr>\n",
       "    <tr>\n",
       "      <th>497</th>\n",
       "      <td>24.875</td>\n",
       "      <td>0.0</td>\n",
       "    </tr>\n",
       "    <tr>\n",
       "      <th>498</th>\n",
       "      <td>24.950</td>\n",
       "      <td>0.0</td>\n",
       "    </tr>\n",
       "    <tr>\n",
       "      <th>499</th>\n",
       "      <td>25.000</td>\n",
       "      <td>0.0</td>\n",
       "    </tr>\n",
       "  </tbody>\n",
       "</table>\n",
       "</div>"
      ],
      "text/plain": [
       "      speed  power\n",
       "495  24.775    0.0\n",
       "496  24.850    0.0\n",
       "497  24.875    0.0\n",
       "498  24.950    0.0\n",
       "499  25.000    0.0"
      ]
     },
     "execution_count": 8,
     "metadata": {},
     "output_type": "execute_result"
    }
   ],
   "source": [
    "# Inspect the last 5 rows - adapted from https://www.datacamp.com/community/tutorials/exploratory-data-analysis-python\n",
    "df.tail()"
   ]
  },
  {
   "cell_type": "markdown",
   "metadata": {},
   "source": [
    "### 2.3 Data Cleaning Results  <a id='clean'></a>\n",
    "\n",
    "The results of the review of the data contained in the first and last dataframe rows are as follows:\n",
    "\n",
    "* The power output for the first and last 5 rows in the data set was zero. This was unexpected and needs further investigation. "
   ]
  },
  {
   "cell_type": "markdown",
   "metadata": {},
   "source": [
    "## 3.0 Data Pre-Processing <a id='preprocessing'></a>\n",
    "\n",
    "Now that I have confirmed that the data is clean the next step is to prepare the data for analysis (data preprocessing).\n",
    "\n",
    "Sharma (2018), describes data preprocessing as a data analysis technique that involves transforming raw data into an understandable format. Preprocessing activities include normalisation and standardisation, transformation, feature extraction and selection. The output of data preprocessing is the final training dataset."
   ]
  },
  {
   "cell_type": "markdown",
   "metadata": {},
   "source": [
    "### 3.4 Outliers <a id='outliers'></a>\n",
    "\n",
    "Willems (2017), describes outliers as data that contain values that diverge heavily from the majority of other data. These values are easily identified when you plot the data as the data points appear to lie outside the “expected” area of the plot. Outliers are often caused by data entry or recording errors. Your data needs to be screened for outliers as they can have a signficant effect on the results of the typical summary statistics and can influence the machine learning algorithms such as Linear Regression Models.\n",
    "\n",
    "Willems (2017) suggests some approachs to handling outliers, including deleting the values, transforming the values using an algorithm (e.g. K Nearest Neighbours), or  replacing the values with the mean/mode/median value. Before deciding which approach is best, you first need to have a clear understanding of the data and the likely causes of the outliers.  \n",
    "\n",
    "#### 3.4.1 Removal of Records With Zero Value Power Output <a id='outliers'></a>\n",
    "As we have seen from the head and tail that zero value power output is a feature of the dataset. According to the US Dept of Energy (2020), for wind turbines to operate there must be a minimum wind speeds of between 8 to 16 miles per hour (7.5 meters per second) and a maximum wind speed of about 55 mph (24.5 meters per second). Wind turbines can be damaged at wind speeds above about 55 mph. \n",
    "* The dataset contains records where the power output is zero, where the wind speeds are outside the recommended operating parameters outlined by the US Dept of Energy. Therefore, I will treat these as outliers and remove the values from the dataset.\n",
    "* There four records where the power outpout is zero and the wind speed is within the normal operating parameters. This is not expected, there is no reason provided, but it could be assumed that the turbines may have been taken offline for maintenance etc. I will treat these 4 records as outliers and remove the values from the dataset. \n"
   ]
  },
  {
   "cell_type": "code",
   "execution_count": 10,
   "metadata": {},
   "outputs": [
    {
     "data": {
      "text/html": [
       "<div>\n",
       "<style scoped>\n",
       "    .dataframe tbody tr th:only-of-type {\n",
       "        vertical-align: middle;\n",
       "    }\n",
       "\n",
       "    .dataframe tbody tr th {\n",
       "        vertical-align: top;\n",
       "    }\n",
       "\n",
       "    .dataframe thead th {\n",
       "        text-align: right;\n",
       "    }\n",
       "</style>\n",
       "<table border=\"1\" class=\"dataframe\">\n",
       "  <thead>\n",
       "    <tr style=\"text-align: right;\">\n",
       "      <th></th>\n",
       "      <th>speed</th>\n",
       "      <th>power</th>\n",
       "    </tr>\n",
       "  </thead>\n",
       "  <tbody>\n",
       "    <tr>\n",
       "      <th>5</th>\n",
       "      <td>0.325</td>\n",
       "      <td>4.331</td>\n",
       "    </tr>\n",
       "    <tr>\n",
       "      <th>6</th>\n",
       "      <td>0.400</td>\n",
       "      <td>5.186</td>\n",
       "    </tr>\n",
       "    <tr>\n",
       "      <th>7</th>\n",
       "      <td>0.450</td>\n",
       "      <td>3.826</td>\n",
       "    </tr>\n",
       "    <tr>\n",
       "      <th>8</th>\n",
       "      <td>0.501</td>\n",
       "      <td>1.048</td>\n",
       "    </tr>\n",
       "    <tr>\n",
       "      <th>9</th>\n",
       "      <td>0.526</td>\n",
       "      <td>5.553</td>\n",
       "    </tr>\n",
       "    <tr>\n",
       "      <th>...</th>\n",
       "      <td>...</td>\n",
       "      <td>...</td>\n",
       "    </tr>\n",
       "    <tr>\n",
       "      <th>485</th>\n",
       "      <td>24.249</td>\n",
       "      <td>103.700</td>\n",
       "    </tr>\n",
       "    <tr>\n",
       "      <th>486</th>\n",
       "      <td>24.299</td>\n",
       "      <td>93.694</td>\n",
       "    </tr>\n",
       "    <tr>\n",
       "      <th>487</th>\n",
       "      <td>24.349</td>\n",
       "      <td>93.078</td>\n",
       "    </tr>\n",
       "    <tr>\n",
       "      <th>488</th>\n",
       "      <td>24.374</td>\n",
       "      <td>98.223</td>\n",
       "    </tr>\n",
       "    <tr>\n",
       "      <th>489</th>\n",
       "      <td>24.399</td>\n",
       "      <td>95.117</td>\n",
       "    </tr>\n",
       "  </tbody>\n",
       "</table>\n",
       "<p>451 rows × 2 columns</p>\n",
       "</div>"
      ],
      "text/plain": [
       "      speed    power\n",
       "5     0.325    4.331\n",
       "6     0.400    5.186\n",
       "7     0.450    3.826\n",
       "8     0.501    1.048\n",
       "9     0.526    5.553\n",
       "..      ...      ...\n",
       "485  24.249  103.700\n",
       "486  24.299   93.694\n",
       "487  24.349   93.078\n",
       "488  24.374   98.223\n",
       "489  24.399   95.117\n",
       "\n",
       "[451 rows x 2 columns]"
      ]
     },
     "execution_count": 10,
     "metadata": {},
     "output_type": "execute_result"
    }
   ],
   "source": [
    "# Remove \"Zero\" Values\n",
    "newdf = df[(df.power > 0)] \n",
    "newdf"
   ]
  },
  {
   "cell_type": "code",
   "execution_count": 18,
   "metadata": {
    "collapsed": true
   },
   "outputs": [
    {
     "data": {
      "image/png": "[encoded data removed]",
      "text/plain": [
       "<Figure size 360x360 with 1 Axes>"
      ]
     },
     "metadata": {},
     "output_type": "display_data"
    }
   ],
   "source": [
    "# One type of plot available in seaborn.\n",
    "sns.catplot(x='speed', y='power', jitter=False, data=newdf);"
   ]
  },
  {
   "cell_type": "markdown",
   "metadata": {},
   "source": [
    "## 5.0 Linear Regression <a id='linear'></a>\n",
    "\n",
    "In this section, I will briefly describe what regression is and the types of linear regression methodologies. I will explain to use Simple Linear Regression to to produce a model to accurately predict wind turbine power output from wind speed\n",
    "values, using the powerproduction dataseet to train the model. I use Scikit-Learn, which is \"one of the most popular machine learning libraries for Python\" (Pathak, 2020).\n",
    "\n",
    "#### How regression works and when to use it. <a id='linear'></a>\n",
    "\n",
    "According to Frost (2019), regression models can be used to predict changes to a dependent variable (y) given changes to one or more predictor variables (x). There are two types of Linear Regression methodologies:\n",
    "\n",
    "1. Simple Linear Regression \n",
    "Simple linear regression algorithm identifies if there is a linear relationship between variables; x (input) and y(output), Pathak(2020).  This relationship is represented in the form:  Y= ax + b \n",
    "Where 'b' is the intercept and 'a' is the slope of the line. The linear regression algorithm fits multiple lines on the data points and returns the line that results in the best fit (least error), (Pathak, 2020).\n",
    "\n",
    "2. Multiple Linear Regression\n",
    "Multiple linear regression is used where there are more than two variables. In this scenario, the dependent variable(y) variable) is dependent upon more than one independent variables (Pathak, 2020). A regression model involving multiple variables can be represented as:\n",
    "y = b0 + a1b1 + a2b2 + a3b3 + … … anbn\n",
    "\n",
    "I have decided to use Simple Linear Regression as there are only two variables. However Multiple Linear Regression could be used if additional variables were included in the data set. According to Pickerel, 2020, other variables which determine power output include:\n",
    "\n",
    "    * The rotor area, the larger the rotor, the more energy it generates.\n",
    "    * The air density, air density is a function of air temperature and elevation, the standard rating assumes 15° C at sea level. As air density changes with elevation, this can affect output.  \n"
   ]
  },
  {
   "cell_type": "markdown",
   "metadata": {},
   "source": [
    "### 5.1 Simple Linear Regression <a id='simple'></a>\n",
    "\n",
    "Simple linear regression is used to identify a straight-line which best fits to data. \n",
    "Stojiljkovic (2019) outlines five basic steps in implementing linear regression:\n",
    "\n",
    "1. Import the packages and classes.\n",
    "2. Provide the data to analyse.\n",
    "3. Create a regression model and fit it with the data.\n",
    "4. Check the results of model fitting and decide whether to accept or reject the model.\n",
    "5. Make predictions using the model."
   ]
  },
  {
   "cell_type": "markdown",
   "metadata": {},
   "source": [
    "#### 5.1.1 Import Packages and Classes"
   ]
  },
  {
   "cell_type": "code",
   "execution_count": 26,
   "metadata": {},
   "outputs": [],
   "source": [
    "# The first step is to import the class LinearRegression from sklearn.linear_model adapted from Stojiljkovic (2019)\n",
    "# The class sklearn.linear_model.LinearRegression will be used to perform linear regression using the Ordinary Least Squares model to fit this data and construct the best-fit line\n",
    "from sklearn.linear_model import LinearRegression"
   ]
  },
  {
   "cell_type": "markdown",
   "metadata": {},
   "source": [
    "#### 5.1.2 Provide Data\n",
    "The second step is defining data you wish to analyse. This involves defining the input (predictor variable, the x) and output (dependent variable, the 𝑦), these variables should be in the form of NumPy arrays (Stojiljkovic, 2019)."
   ]
  },
  {
   "cell_type": "code",
   "execution_count": 20,
   "metadata": {},
   "outputs": [
    {
     "data": {
      "text/plain": [
       "(451, 2)"
      ]
     },
     "execution_count": 20,
     "metadata": {},
     "output_type": "execute_result"
    }
   ],
   "source": [
    "# Create array consisting of the two columns; x and y variables\n",
    "predictors = newdf[['speed', 'power']]\n",
    "# display shapes, 2 columns.\n",
    "predictors.shape\n",
    "# print the shape of the array"
   ]
  },
  {
   "cell_type": "code",
   "execution_count": 21,
   "metadata": {},
   "outputs": [
    {
     "data": {
      "text/plain": [
       "<matplotlib.axes._subplots.AxesSubplot at 0x24348bdf040>"
      ]
     },
     "execution_count": 21,
     "metadata": {},
     "output_type": "execute_result"
    },
    {
     "data": {
      "image/png": "[encoded data removed]",
      "text/plain": [
       "<Figure size 842.4x595.44 with 1 Axes>"
      ]
     },
     "metadata": {},
     "output_type": "display_data"
    }
   ],
   "source": [
    "# Create a simple scatterplot to visualize the data\n",
    "sns.scatterplot(x='speed', y='power', sizes=(40, 400), legend=\"full\", data=predictors)\n",
    "# print scatterplot"
   ]
  },
  {
   "cell_type": "code",
   "execution_count": 23,
   "metadata": {},
   "outputs": [
    {
     "data": {
      "text/plain": [
       "(451, 1)"
      ]
     },
     "execution_count": 23,
     "metadata": {},
     "output_type": "execute_result"
    }
   ],
   "source": [
    "# Solution adapted from Lalitha 2017\n",
    "# Convert the input variable 'Total Bill' into an array XX: \n",
    "XX = np.asarray(predictors['speed']) # https://docs.scipy.org/doc/numpy/reference/generated/numpy.asarray.html\n",
    "# Convert 1 array XX into 2D array called X2 in the shape of a column vector by inserting an axis along second dimension\n",
    "X2 = XX[:, np.newaxis] # https://medium.com/@ian.dzindo01/what-is-numpy-newaxis-and-when-to-use-it-8cb61c7ed6ae\n",
    "# Print shape of X2 array\n",
    "X2.shape"
   ]
  },
  {
   "cell_type": "code",
   "execution_count": 24,
   "metadata": {},
   "outputs": [
    {
     "data": {
      "text/plain": [
       "(451,)"
      ]
     },
     "execution_count": 24,
     "metadata": {},
     "output_type": "execute_result"
    }
   ],
   "source": [
    "y2 = predictors['power']\n",
    "y2.shape"
   ]
  },
  {
   "cell_type": "markdown",
   "metadata": {},
   "source": [
    "#### 5.1.3 Create a regression model and fit it "
   ]
  },
  {
   "cell_type": "code",
   "execution_count": 27,
   "metadata": {},
   "outputs": [
    {
     "data": {
      "text/plain": [
       "LinearRegression()"
      ]
     },
     "execution_count": 27,
     "metadata": {},
     "output_type": "execute_result"
    }
   ],
   "source": [
    "# Create an instance of the class LinearRegression, called model representing the regression model (Stojiljkovic, 2019).\n",
    "# Define Parameters \n",
    "    # Define the parameters of the regression model, source https://realpython.com/linear-regression-in-python/\n",
    "    # fit_intercept=True , the y-intercept will be determined by the line of best fit. https://stackoverflow.com/a/46781428\n",
    "    # normalize is a Boolean (False by default) that decides whether to normalize the input variables (True) or not (False).\n",
    "    # copy_X is a Boolean (True by default) that decides whether to copy (True) or overwrite the input variables (False).\n",
    "    # n_jobs is an integer or None (default) and represents the number of jobs used in parallel computation. None usually means one job and -1 to use all processors.\n",
    "\n",
    "# call .fit() on model: \n",
    "model = LinearRegression(fit_intercept=True).fit(X2, y2)\n",
    "# Print Model\n",
    "model"
   ]
  },
  {
   "cell_type": "markdown",
   "metadata": {},
   "source": [
    "#### 5.1.4 Get Results"
   ]
  },
  {
   "cell_type": "code",
   "execution_count": 28,
   "metadata": {},
   "outputs": [
    {
     "name": "stdout",
     "output_type": "stream",
     "text": [
      "coefficient of determination: 0.8984832870534454\n"
     ]
    }
   ],
   "source": [
    "r_sq = model.score(X2, y2)\n",
    "print('coefficient of determination:', r_sq)"
   ]
  },
  {
   "cell_type": "code",
   "execution_count": 30,
   "metadata": {},
   "outputs": [
    {
     "name": "stdout",
     "output_type": "stream",
     "text": [
      "regression coefficient (slope): [5.61882784]\n"
     ]
    }
   ],
   "source": [
    "# Regression coefficients - adapted from Lalitha (2017)\n",
    "# Regression coefficients are estimates of the unknown population parameters and describe the relationship between a predictor variable and the response. \n",
    "# In linear regression, coefficients are the values that multiply the predictor values. \n",
    "# Use sklearn coef function to display the coefficient for the line of best fit taken from 'model'\n",
    "r_coef = model.coef_\n",
    "print('regression coefficient (slope):', r_coef)"
   ]
  },
  {
   "cell_type": "code",
   "execution_count": 31,
   "metadata": {},
   "outputs": [
    {
     "name": "stdout",
     "output_type": "stream",
     "text": [
      "y intercept: -19.837685452108396\n"
     ]
    }
   ],
   "source": [
    "constant = model.intercept_\n",
    "print('y intercept:', constant)"
   ]
  },
  {
   "cell_type": "markdown",
   "metadata": {},
   "source": [
    "#### 5.1.5 Predict response\n",
    "Once you are happy with the model, the next step is to predict the response using some test data"
   ]
  },
  {
   "cell_type": "code",
   "execution_count": 43,
   "metadata": {},
   "outputs": [
    {
     "data": {
      "text/plain": [
       "(244, 1)"
      ]
     },
     "execution_count": 43,
     "metadata": {},
     "output_type": "execute_result"
    }
   ],
   "source": [
    "# Create test data adapted from Lalitha (2017)\n",
    "# Generate 244 samples in range 0 to 51 (which approximates range of bills) using NumPy Random Randint function\n",
    "Xfit = np.random.uniform(25,size=(244))\n",
    "# astype is used to convert integers to floats in Pandas DataFrame: https://datatofish.com/integer-to-float-dataframe/\n",
    "Xfit.astype(float)\n",
    "# Convert 1D array Xfit into 2D array in the shape of a column vector by inserting an axis along second dimension\n",
    "Xfit = Xfit[:, np.newaxis] # https://medium.com/@ian.dzindo01/what-is-numpy-newaxis-and-when-to-use-it-8cb61c7ed6ae\n",
    "# display the shape of an array Xfit\n",
    "Xfit.shape # adapted from https://stackoverflow.com/a/10200284\n"
   ]
  },
  {
   "cell_type": "code",
   "execution_count": 44,
   "metadata": {},
   "outputs": [
    {
     "name": "stdout",
     "output_type": "stream",
     "text": [
      "predicted response:\n",
      "[103.77652698 103.77652698  41.96942076 -14.21885761  92.5388713\n",
      "  53.20707644  19.49410941  47.5882486   -2.98120194  -8.60002978\n",
      "   8.25645374 -14.21885761 109.39535482  30.73176509  86.92004347\n",
      "  75.68238779  25.11293725  -2.98120194  58.82590428  30.73176509\n",
      "  -2.98120194  64.44473211  81.30121563  98.15769914 -14.21885761\n",
      " 109.39535482  13.87528157 115.01418265   2.6376259   75.68238779\n",
      "  -2.98120194   2.6376259   -8.60002978  53.20707644  58.82590428\n",
      " 109.39535482  41.96942076  53.20707644  13.87528157 -14.21885761\n",
      "   2.6376259   53.20707644 103.77652698 -19.83768545  81.30121563\n",
      "  -2.98120194  86.92004347 109.39535482  75.68238779 103.77652698\n",
      "  13.87528157  47.5882486   25.11293725  36.35059293  98.15769914\n",
      "  86.92004347  41.96942076  47.5882486  103.77652698 103.77652698\n",
      "  30.73176509  41.96942076 -14.21885761 103.77652698  92.5388713\n",
      "  25.11293725  64.44473211  47.5882486   36.35059293  -8.60002978\n",
      "  58.82590428  58.82590428   2.6376259   36.35059293 109.39535482\n",
      "  13.87528157  86.92004347 103.77652698   8.25645374  47.5882486\n",
      "  98.15769914   2.6376259   13.87528157  81.30121563  -2.98120194\n",
      " 103.77652698  -2.98120194  25.11293725  13.87528157 -14.21885761\n",
      " -14.21885761  86.92004347  13.87528157  53.20707644  98.15769914\n",
      "  -2.98120194  36.35059293  47.5882486   92.5388713   58.82590428\n",
      " 103.77652698  -2.98120194  -8.60002978  41.96942076  98.15769914\n",
      "  58.82590428  98.15769914  98.15769914 115.01418265  53.20707644\n",
      "   2.6376259  103.77652698 109.39535482  70.06355995 -19.83768545\n",
      "  -2.98120194  58.82590428  58.82590428  92.5388713   -2.98120194\n",
      "  53.20707644  86.92004347  70.06355995  81.30121563  58.82590428\n",
      "  36.35059293   2.6376259   53.20707644  30.73176509  53.20707644\n",
      "  13.87528157  81.30121563  47.5882486   19.49410941   2.6376259\n",
      "  -8.60002978  25.11293725  92.5388713   19.49410941  92.5388713\n",
      " -19.83768545 -19.83768545  70.06355995  75.68238779  98.15769914\n",
      " -19.83768545  41.96942076  70.06355995  30.73176509  92.5388713\n",
      " 103.77652698   2.6376259  -19.83768545 -19.83768545  41.96942076\n",
      "  25.11293725  86.92004347   2.6376259   13.87528157  19.49410941\n",
      "  -8.60002978  81.30121563  98.15769914  64.44473211  41.96942076\n",
      "  30.73176509  70.06355995 103.77652698  53.20707644  36.35059293\n",
      "  36.35059293  -2.98120194  13.87528157  30.73176509  53.20707644\n",
      "  19.49410941  41.96942076  92.5388713   30.73176509 109.39535482\n",
      " 115.01418265  75.68238779  13.87528157  -8.60002978 109.39535482\n",
      "  92.5388713    2.6376259   19.49410941 109.39535482  19.49410941\n",
      "  92.5388713   81.30121563 115.01418265  25.11293725 115.01418265\n",
      " -14.21885761  13.87528157  58.82590428  36.35059293  47.5882486\n",
      " -14.21885761 -14.21885761 103.77652698  64.44473211  81.30121563\n",
      "  25.11293725  30.73176509 109.39535482  -2.98120194  70.06355995\n",
      "  92.5388713   47.5882486   19.49410941 115.01418265  25.11293725\n",
      " -14.21885761  58.82590428 -19.83768545  98.15769914  47.5882486\n",
      "  75.68238779  25.11293725   2.6376259   70.06355995  -2.98120194\n",
      "  19.49410941  19.49410941  47.5882486   64.44473211  58.82590428\n",
      "  86.92004347 109.39535482  25.11293725  47.5882486   13.87528157\n",
      "  53.20707644 -19.83768545 115.01418265  -2.98120194  36.35059293\n",
      "  58.82590428  25.11293725   2.6376259  103.77652698]\n"
     ]
    }
   ],
   "source": [
    "# To obtain the predicted response, use .predict(): (Stojiljkovic, 2019).\n",
    "yfit = (model.predict(Xfit))\n",
    "print('predicted response:', yfit, sep='\\n')\n",
    "# Answer"
   ]
  },
  {
   "cell_type": "code",
   "execution_count": 45,
   "metadata": {},
   "outputs": [
    {
     "data": {
      "image/png": "[encoded data removed]",
      "text/plain": [
       "<Figure size 1080x720 with 1 Axes>"
      ]
     },
     "metadata": {},
     "output_type": "display_data"
    }
   ],
   "source": [
    "# Visualize the results\n",
    "\n",
    "# Resize Plot to creates a figure with 15 (width) x 10 (height) inches - Adapted from https://stackoverflow.com/a/36368418\n",
    "plt.figure(figsize=(15,10))\n",
    "plt.xlabel('Total Bill') # Label x Axis \n",
    "plt.ylabel('Tip') # Label y Axis \n",
    "\n",
    "# Create a scatter plot of X2 and y2 and plot the regression line which is the predicted response when data is input into the regression model\n",
    "plt.scatter(X2, y2)\n",
    "plt.plot(Xfit, yfit,color=\"red\")\n",
    "plt.show()"
   ]
  },
  {
   "cell_type": "code",
   "execution_count": 41,
   "metadata": {},
   "outputs": [
    {
     "data": {
      "text/plain": [
       "(1, 1)"
      ]
     },
     "execution_count": 41,
     "metadata": {},
     "output_type": "execute_result"
    }
   ],
   "source": [
    "# Testspeed is an array containing 1 float, value 15.5, representing 15.5 meters per second. adapted from Stojiljkovic (2019).\n",
    "Testspeed = np.array([15.5]) # https://docs.scipy.org/doc/numpy/user/basics.creation.html\n",
    "\n",
    "# Convert 1D array Xfit into 2D array in the shape of a column vector by inserting an axis along second dimension\n",
    "Testspeed = Testspeed[:, np.newaxis] \n",
    "# display the shape of an array Testbill\n",
    "Testspeed.shape # adapted from https://stackoverflow.com/a/10200284"
   ]
  },
  {
   "cell_type": "code",
   "execution_count": 42,
   "metadata": {},
   "outputs": [
    {
     "name": "stdout",
     "output_type": "stream",
     "text": [
      "Predicted output if windspeed is 15.5 is: [67.25414603]\n"
     ]
    }
   ],
   "source": [
    "# Predict Tip for Total Bill of $100\n",
    "# To obtain the predicted response, use .predict():adapted from Stojiljkovic (2019).\n",
    "y_pred = (model.predict(Testspeed))\n",
    "print('Predicted output if windspeed is 15.5 is:', y_pred)"
   ]
  },
  {
   "cell_type": "markdown",
   "metadata": {},
   "source": [
    "## 6.0 Polynomial Regression <a id='linear'></a>"
   ]
  },
  {
   "cell_type": "code",
   "execution_count": null,
   "metadata": {},
   "outputs": [],
   "source": []
  },
  {
   "cell_type": "code",
   "execution_count": null,
   "metadata": {},
   "outputs": [],
   "source": []
  },
  {
   "cell_type": "code",
   "execution_count": null,
   "metadata": {},
   "outputs": [],
   "source": []
  },
  {
   "cell_type": "code",
   "execution_count": null,
   "metadata": {},
   "outputs": [],
   "source": []
  },
  {
   "cell_type": "code",
   "execution_count": null,
   "metadata": {},
   "outputs": [],
   "source": []
  },
  {
   "cell_type": "markdown",
   "metadata": {},
   "source": [
    "## 7.0 References <a id='references'></a>\n",
    "   1. Met Office (2020) *How we measure wind* [Online] Available at:https://www.metoffice.gov.uk/weather/guides/observations/how-we-measure-wind#:~:text=The%20instruments%20used%20to%20measure,%2D1%20%3D%201.15%20mph) [Accessed 13 Nov 2020]\n",
    "   1. Pickerel, K (2010) *How to calculate power output of wind* [Online] Available at:https://www.windpowerengineering.com/calculate-wind-power-output/ [Accessed 13 Nov 2020]\n",
    "   1. Sharma, N (2018) *Cleaning data for data visualisation* [Online] Available \n",
    "   https://confusedcoders.com/data-science/cleaning-data-for-data-visualisation [Accessed 13 Nov 2020]\n",
    "   1. Willems, K (2017) *Python Exploratory Data Analysis Tutorial* [Online] Available at:https://www.datacamp.com/community/tutorials/exploratory-data-analysis-python [Accessed 13 Nov 2020]\n",
    "   1. US Dept of Energy (2020) *The Inside of a Wind Turbine* [Online] Available at:https://www.energy.gov/eere/wind/inside-wind-turbine#:~:text=Starts%20up%20the%20machine%20at,damaged%20by%20the%20high%20winds. [Accessed 13 Nov 2020]\n",
    "   1. Pathak, P (2020) *A beginner’s guide to Linear Regression in Python with Scikit-Learn* [Online] Available at:https://medium.com/analytics-vidhya/a-beginners-guide-to-linear-regression-in-python-with-scikit-learn-6b0fe70b32d7 [Accessed 13 Nov 2020]\n",
    "   1. Frost, J (2019) *Regression coefficients* [Online] Available at:https://statisticsbyjim.com/glossary/regression-coefficient/ [Accessed 13 Nov 2020]\n",
    "   1. Liran, B (2017) *PYTHON MACHINE LEARNING EXAMPLE – LINEAR REGRESSION* [Online] Available at: \n",
    "    https://devarea.com/python-machine-learning-example-linear-regression/#.XeDYeej7TIV [Accessed 13 Nov 2020]\n",
    "   1. Stojiljkovic, M (2019) *Simple Linear Regression With scikit-learn* [Online] Available at:https://realpython.com/linear-regression-in-python/ [Accessed 13 Nov 2020]\n",
    "   1. Lalitha, R (2017) *Iris Dataset - Exploratory Data Analysis* [Online] Available at:https://realpython.com/linear-regression-in-python/https://www.kaggle.com/lalitharajesh/iris-dataset-exploratory-data-analysis [Accessed 13 Nov 2020]\n",
    "   \n",
    "   \n",
    "   \n",
    "   \n",
    "   \n",
    "   1. Bryant, P. G. and Smith, M (1995) *Practical Data Analysis: Case Studies in Business Statistics* Homewood, IL: Richard D. Irwin Publishing.\n",
    "   1. Waskom, M (2014) *seaborn-data* [Online] Available at:https://github.com/mwaskom/seaborn-data/blob/master/tips.csv [Accessed 18 Oct 2019]\n",
    "   2. Computer Hope (2018) *How To Create A CSV File* [Online] Available at: https://www.computerhope.com/jargon/n/newline.htm [Accessed 1 April 2019].\n",
    "   3. Glen, S (2014) *Pearson Mode Skewness* [Online] Available at:https://www.statisticshowto.datasciencecentral.com/pearson-mode-skewness/ [Accessed 18 Oct 2019]\n",
    "   4. McLoughlin, I (2019) *Descriptive Statistics and Plots with Pandas* [Online] Available at:https://web.microsoftstream.com/video/ecc9ce4a-c6f5-4c50-a4f4-29116fc21b81?referrer=https:%2F%2Flearnonline.gmit.ie%2Fcourse%2Fview.php%3Fid%3D689 [Accessed 18 Oct 2019]\n",
    "   1. McKinney, W (2019) *Wes McKinney: pandas in 10 minutes | Walkthrough* [Online] Available at:https://www.youtube.com/watch?foo=bar&v=_T8LGqJtuGc [Accessed 19 Oct 2019]\n",
    "   1. McKinney, W (2012) *Python for Data Analysis* 1st Ed. O’Reilly Media, Inc.\n",
    "   1. Haunschmid, V (2017) *How to make inline plots in Jupyter Notebook larger?* [Online] Available at:https://stackoverflow.com/a/36368418 [Accessed 26 Oct 2019]\n",
    "   \n",
    "   1. Bundock, V (2019) *R Week 4 Assignment - Charting Tips* [Online] Available at:http://rstudio-pubs-static.s3.amazonaws.com/128623_507fbe51532748f29278825fceedab85.html [Accessed 26 Oct 2019]\n",
    "   1. geeksforgeeks.org (2019) *Python | Pandas dataframe.groupby()* [Online] Available at:https://www.geeksforgeeks.org/python-pandas-dataframe-groupby/ [Accessed 10 Nov 2019]\n",
    "   \n",
    "   1. StatTrek.com (2019) *Coefficient of Determination* [Online] Available at:https://stattrek.com/statistics/dictionary.aspx?definition=coefficient_of_determination [Accessed 19 Nov 2019]\n",
    "  \n",
    "   1. Minitab.com (2019) *Regression Analysis: How Do I Interpret R-squared and Assess the Goodness-of-Fit?* [Online] Available at:https://blog.minitab.com/blog/adventures-in-statistics-2/regression-analysis-how-do-i-interpret-r-squared-and-assess-the-goodness-of-fit [Accessed 19 Nov 2019]\n",
    "   1. Waskom, M (2018) *Visualizing statistical relationships* [Online] Available at:https://seaborn.pydata.org/tutorial/relational.html [Accessed 23 Nov 2019]\n",
    "   1. Statsmakemecry.com (2012) *Confusing Stats Terms Explained: Heteroscedasticity (Heteroskedasticity)* [Online] Available at:http://www.statsmakemecry.com/smmctheblog/confusing-stats-terms-explained-heteroscedasticity-heteroske.html [Accessed 23 Nov 2019]\n",
    "   1. Sharma, N (2018) *Exploratory Data Analysis (EDA) techniques for Kaggle competition beginners* [Online] Available at:https://towardsdatascience.com/exploratory-data-analysis-eda-techniques-for-kaggle-competition-beginners-be4237c3c3a9 [Accessed 23 Nov 2019]\n",
    "   1. Doshi, S (2019) *EAnalyze the data through data visualization using Seaborn* [Online] Available at:https://towardsdatascience.com/analyze-the-data-through-data-visualization-using-seaborn-255e1cd3948e [Accessed 23 Nov 2019]\n",
    "   \n",
    "   1. National Institute of Standards and Technology (2012) *What is EDA?* [Online] Available at:\n",
    "   https://www.itl.nist.gov/div898/handbook/eda/section1/eda11.htm [Accessed 24 Nov 2019]\n",
    "   1. Sarkar, D (2018) *The Art of Effective Visualization of Multi-dimensional Data* [Online] Available at: \n",
    "    https://towardsdatascience.com/the-art-of-effective-visualization-of-multi-dimensional-data-6c7202990c57 [Accessed 24 Nov 2019]\n",
    "   "
   ]
  },
  {
   "cell_type": "code",
   "execution_count": null,
   "metadata": {},
   "outputs": [],
   "source": []
  }
 ],
 "metadata": {
  "kernelspec": {
   "display_name": "Python 3",
   "language": "python",
   "name": "python3"
  },
  "language_info": {
   "codemirror_mode": {
    "name": "ipython",
    "version": 3
   },
   "file_extension": ".py",
   "mimetype": "text/x-python",
   "name": "python",
   "nbconvert_exporter": "python",
   "pygments_lexer": "ipython3",
   "version": "3.8.3"
  }
 },
 "nbformat": 4,
 "nbformat_minor": 4
}
